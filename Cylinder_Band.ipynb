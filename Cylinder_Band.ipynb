{
 "cells": [
  {
   "cell_type": "code",
   "execution_count": 0,
   "metadata": {
    "colab": {},
    "colab_type": "code",
    "id": "pGkhefTc8ted"
   },
   "outputs": [],
   "source": [
    "import pandas as pd\n",
    "import seaborn as sns\n",
    "import matplotlib.pyplot as plt\n",
    "import numpy as np\n",
    "import statsmodels.api as sm \n",
    "import pylab as py\n",
    "from sklearn import metrics\n",
    "from scipy import stats\n",
    "import warnings\n",
    "warnings.filterwarnings('ignore')"
   ]
  },
  {
   "cell_type": "code",
   "execution_count": 243,
   "metadata": {
    "colab": {
     "base_uri": "https://localhost:8080/",
     "height": 224
    },
    "colab_type": "code",
    "id": "F4ba9Ucm-wnc",
    "outputId": "c6a14f2a-81dd-419b-9b55-bb56c1f435fd"
   },
   "outputs": [
    {
     "data": {
      "text/html": [
       "<div>\n",
       "<style scoped>\n",
       "    .dataframe tbody tr th:only-of-type {\n",
       "        vertical-align: middle;\n",
       "    }\n",
       "\n",
       "    .dataframe tbody tr th {\n",
       "        vertical-align: top;\n",
       "    }\n",
       "\n",
       "    .dataframe thead th {\n",
       "        text-align: right;\n",
       "    }\n",
       "</style>\n",
       "<table border=\"1\" class=\"dataframe\">\n",
       "  <thead>\n",
       "    <tr style=\"text-align: right;\">\n",
       "      <th></th>\n",
       "      <th>timestamp</th>\n",
       "      <th>cylinder_number</th>\n",
       "      <th>customer</th>\n",
       "      <th>job_number</th>\n",
       "      <th>grain_screened</th>\n",
       "      <th>ink_color</th>\n",
       "      <th>proof_on_ctd_ink</th>\n",
       "      <th>blade_mfg</th>\n",
       "      <th>cylinder_division</th>\n",
       "      <th>paper_type</th>\n",
       "      <th>ink_type</th>\n",
       "      <th>direct_steam</th>\n",
       "      <th>solvent_type</th>\n",
       "      <th>type_on_cylinder</th>\n",
       "      <th>press_type</th>\n",
       "      <th>press</th>\n",
       "      <th>unit_number</th>\n",
       "      <th>cylinder_size</th>\n",
       "      <th>paper_mill_location</th>\n",
       "      <th>plating_tank</th>\n",
       "      <th>proof_cut</th>\n",
       "      <th>viscosity</th>\n",
       "      <th>caliper</th>\n",
       "      <th>ink_temperature</th>\n",
       "      <th>humifity</th>\n",
       "      <th>roughness</th>\n",
       "      <th>blade_pressure</th>\n",
       "      <th>varnish_pct</th>\n",
       "      <th>press_speed</th>\n",
       "      <th>ink_pct</th>\n",
       "      <th>solvent_pct</th>\n",
       "      <th>ESA_Voltage</th>\n",
       "      <th>ESA_Amperage</th>\n",
       "      <th>wax</th>\n",
       "      <th>hardener</th>\n",
       "      <th>roller_durometer</th>\n",
       "      <th>current_density</th>\n",
       "      <th>anode_space_ratio</th>\n",
       "      <th>chrome_content</th>\n",
       "      <th>band_type</th>\n",
       "    </tr>\n",
       "  </thead>\n",
       "  <tbody>\n",
       "    <tr>\n",
       "      <th>0</th>\n",
       "      <td>19910108</td>\n",
       "      <td>x126</td>\n",
       "      <td>tvguide</td>\n",
       "      <td>25503</td>\n",
       "      <td>yes</td>\n",
       "      <td>key</td>\n",
       "      <td>yes</td>\n",
       "      <td>benton</td>\n",
       "      <td>gallatin</td>\n",
       "      <td>uncoated</td>\n",
       "      <td>uncoated</td>\n",
       "      <td>no</td>\n",
       "      <td>line</td>\n",
       "      <td>yes</td>\n",
       "      <td>motter94</td>\n",
       "      <td>821</td>\n",
       "      <td>2</td>\n",
       "      <td>tabloid</td>\n",
       "      <td>northus</td>\n",
       "      <td>1911</td>\n",
       "      <td>55</td>\n",
       "      <td>46</td>\n",
       "      <td>0.2</td>\n",
       "      <td>17</td>\n",
       "      <td>78</td>\n",
       "      <td>0.75</td>\n",
       "      <td>20</td>\n",
       "      <td>13.1</td>\n",
       "      <td>1700</td>\n",
       "      <td>50.5</td>\n",
       "      <td>36.4</td>\n",
       "      <td>0</td>\n",
       "      <td>0</td>\n",
       "      <td>2.5</td>\n",
       "      <td>1</td>\n",
       "      <td>34</td>\n",
       "      <td>40</td>\n",
       "      <td>105</td>\n",
       "      <td>100</td>\n",
       "      <td>band</td>\n",
       "    </tr>\n",
       "    <tr>\n",
       "      <th>1</th>\n",
       "      <td>19910109</td>\n",
       "      <td>x266</td>\n",
       "      <td>tvguide</td>\n",
       "      <td>25503</td>\n",
       "      <td>yes</td>\n",
       "      <td>key</td>\n",
       "      <td>yes</td>\n",
       "      <td>benton</td>\n",
       "      <td>gallatin</td>\n",
       "      <td>uncoated</td>\n",
       "      <td>uncoated</td>\n",
       "      <td>no</td>\n",
       "      <td>line</td>\n",
       "      <td>yes</td>\n",
       "      <td>motter94</td>\n",
       "      <td>821</td>\n",
       "      <td>2</td>\n",
       "      <td>tabloid</td>\n",
       "      <td>northus</td>\n",
       "      <td>?</td>\n",
       "      <td>55</td>\n",
       "      <td>46</td>\n",
       "      <td>0.3</td>\n",
       "      <td>15</td>\n",
       "      <td>80</td>\n",
       "      <td>0.75</td>\n",
       "      <td>20</td>\n",
       "      <td>6.6</td>\n",
       "      <td>1900</td>\n",
       "      <td>54.9</td>\n",
       "      <td>38.5</td>\n",
       "      <td>0</td>\n",
       "      <td>0</td>\n",
       "      <td>2.5</td>\n",
       "      <td>0.7</td>\n",
       "      <td>34</td>\n",
       "      <td>40</td>\n",
       "      <td>105</td>\n",
       "      <td>100</td>\n",
       "      <td>noband</td>\n",
       "    </tr>\n",
       "    <tr>\n",
       "      <th>2</th>\n",
       "      <td>19910104</td>\n",
       "      <td>b7</td>\n",
       "      <td>modmat</td>\n",
       "      <td>47201</td>\n",
       "      <td>yes</td>\n",
       "      <td>key</td>\n",
       "      <td>yes</td>\n",
       "      <td>benton</td>\n",
       "      <td>gallatin</td>\n",
       "      <td>uncoated</td>\n",
       "      <td>coated</td>\n",
       "      <td>no</td>\n",
       "      <td>line</td>\n",
       "      <td>yes</td>\n",
       "      <td>woodhoe70</td>\n",
       "      <td>815</td>\n",
       "      <td>9</td>\n",
       "      <td>catalog</td>\n",
       "      <td>northus</td>\n",
       "      <td>?</td>\n",
       "      <td>62</td>\n",
       "      <td>40</td>\n",
       "      <td>0.433</td>\n",
       "      <td>16</td>\n",
       "      <td>80</td>\n",
       "      <td>?</td>\n",
       "      <td>30</td>\n",
       "      <td>6.5</td>\n",
       "      <td>1850</td>\n",
       "      <td>53.8</td>\n",
       "      <td>39.8</td>\n",
       "      <td>0</td>\n",
       "      <td>0</td>\n",
       "      <td>2.8</td>\n",
       "      <td>0.9</td>\n",
       "      <td>40</td>\n",
       "      <td>40</td>\n",
       "      <td>103.87</td>\n",
       "      <td>100</td>\n",
       "      <td>noband</td>\n",
       "    </tr>\n",
       "    <tr>\n",
       "      <th>3</th>\n",
       "      <td>19910104</td>\n",
       "      <td>t133</td>\n",
       "      <td>massey</td>\n",
       "      <td>39039</td>\n",
       "      <td>yes</td>\n",
       "      <td>key</td>\n",
       "      <td>yes</td>\n",
       "      <td>benton</td>\n",
       "      <td>gallatin</td>\n",
       "      <td>uncoated</td>\n",
       "      <td>uncoated</td>\n",
       "      <td>no</td>\n",
       "      <td>line</td>\n",
       "      <td>yes</td>\n",
       "      <td>woodhoe70</td>\n",
       "      <td>816</td>\n",
       "      <td>9</td>\n",
       "      <td>catalog</td>\n",
       "      <td>northus</td>\n",
       "      <td>1910</td>\n",
       "      <td>52</td>\n",
       "      <td>40</td>\n",
       "      <td>0.3</td>\n",
       "      <td>16</td>\n",
       "      <td>75</td>\n",
       "      <td>0.3125</td>\n",
       "      <td>30</td>\n",
       "      <td>5.6</td>\n",
       "      <td>1467</td>\n",
       "      <td>55.6</td>\n",
       "      <td>38.8</td>\n",
       "      <td>0</td>\n",
       "      <td>0</td>\n",
       "      <td>2.5</td>\n",
       "      <td>1.3</td>\n",
       "      <td>40</td>\n",
       "      <td>40</td>\n",
       "      <td>108.06</td>\n",
       "      <td>100</td>\n",
       "      <td>noband</td>\n",
       "    </tr>\n",
       "    <tr>\n",
       "      <th>4</th>\n",
       "      <td>19910111</td>\n",
       "      <td>j34</td>\n",
       "      <td>kmart</td>\n",
       "      <td>37351</td>\n",
       "      <td>no</td>\n",
       "      <td>key</td>\n",
       "      <td>yes</td>\n",
       "      <td>benton</td>\n",
       "      <td>gallatin</td>\n",
       "      <td>uncoated</td>\n",
       "      <td>coated</td>\n",
       "      <td>no</td>\n",
       "      <td>line</td>\n",
       "      <td>yes</td>\n",
       "      <td>woodhoe70</td>\n",
       "      <td>816</td>\n",
       "      <td>2</td>\n",
       "      <td>tabloid</td>\n",
       "      <td>?</td>\n",
       "      <td>1910</td>\n",
       "      <td>50</td>\n",
       "      <td>46</td>\n",
       "      <td>0.3</td>\n",
       "      <td>17</td>\n",
       "      <td>80</td>\n",
       "      <td>0.75</td>\n",
       "      <td>30</td>\n",
       "      <td>0</td>\n",
       "      <td>2100</td>\n",
       "      <td>57.5</td>\n",
       "      <td>42.5</td>\n",
       "      <td>5</td>\n",
       "      <td>0</td>\n",
       "      <td>2.3</td>\n",
       "      <td>0.6</td>\n",
       "      <td>35</td>\n",
       "      <td>40</td>\n",
       "      <td>106.67</td>\n",
       "      <td>100</td>\n",
       "      <td>noband</td>\n",
       "    </tr>\n",
       "  </tbody>\n",
       "</table>\n",
       "</div>"
      ],
      "text/plain": [
       "   timestamp cylinder_number  ... chrome_content  band_type\n",
       "0   19910108            x126  ...            100       band\n",
       "1   19910109            x266  ...            100     noband\n",
       "2   19910104              b7  ...            100     noband\n",
       "3   19910104            t133  ...            100     noband\n",
       "4   19910111             j34  ...            100     noband\n",
       "\n",
       "[5 rows x 40 columns]"
      ]
     },
     "execution_count": 243,
     "metadata": {
      "tags": []
     },
     "output_type": "execute_result"
    }
   ],
   "source": [
    "cylinder = pd.read_csv('Cylinder_band.csv')\n",
    "cylinder.head()"
   ]
  },
  {
   "cell_type": "code",
   "execution_count": 244,
   "metadata": {
    "colab": {
     "base_uri": "https://localhost:8080/",
     "height": 782
    },
    "colab_type": "code",
    "id": "PfPQ74QF_Jsz",
    "outputId": "1be5f0ab-65cc-4d5d-dc12-12af8ff13e61"
   },
   "outputs": [
    {
     "name": "stdout",
     "output_type": "stream",
     "text": [
      "<class 'pandas.core.frame.DataFrame'>\n",
      "RangeIndex: 540 entries, 0 to 539\n",
      "Data columns (total 40 columns):\n",
      "timestamp              540 non-null int64\n",
      "cylinder_number        540 non-null object\n",
      "customer               540 non-null object\n",
      "job_number             540 non-null int64\n",
      "grain_screened         540 non-null object\n",
      "ink_color              540 non-null object\n",
      "proof_on_ctd_ink       540 non-null object\n",
      "blade_mfg              540 non-null object\n",
      "cylinder_division      540 non-null object\n",
      "paper_type             540 non-null object\n",
      "ink_type               540 non-null object\n",
      "direct_steam           540 non-null object\n",
      "solvent_type           540 non-null object\n",
      "type_on_cylinder       540 non-null object\n",
      "press_type             540 non-null object\n",
      "press                  540 non-null int64\n",
      "unit_number            540 non-null int64\n",
      "cylinder_size          540 non-null object\n",
      "paper_mill_location    540 non-null object\n",
      "plating_tank           540 non-null object\n",
      "proof_cut              540 non-null object\n",
      "viscosity              540 non-null object\n",
      "caliper                540 non-null object\n",
      "ink_temperature        540 non-null object\n",
      "humifity               540 non-null object\n",
      "roughness              540 non-null object\n",
      "blade_pressure         540 non-null object\n",
      "varnish_pct            540 non-null object\n",
      "press_speed            540 non-null object\n",
      "ink_pct                540 non-null object\n",
      "solvent_pct            540 non-null object\n",
      "ESA_Voltage            540 non-null object\n",
      "ESA_Amperage           540 non-null object\n",
      "wax                    540 non-null object\n",
      "hardener               540 non-null object\n",
      "roller_durometer       540 non-null object\n",
      "current_density        540 non-null object\n",
      "anode_space_ratio      540 non-null object\n",
      "chrome_content         540 non-null object\n",
      "band_type              540 non-null object\n",
      "dtypes: int64(4), object(36)\n",
      "memory usage: 168.9+ KB\n"
     ]
    }
   ],
   "source": [
    "cylinder.info()"
   ]
  },
  {
   "cell_type": "code",
   "execution_count": 245,
   "metadata": {
    "colab": {
     "base_uri": "https://localhost:8080/",
     "height": 439
    },
    "colab_type": "code",
    "id": "fL-55PpLLHOO",
    "outputId": "2ae654bc-17a1-436f-d190-b71b8d4dc3d2"
   },
   "outputs": [
    {
     "data": {
      "text/html": [
       "<div>\n",
       "<style scoped>\n",
       "    .dataframe tbody tr th:only-of-type {\n",
       "        vertical-align: middle;\n",
       "    }\n",
       "\n",
       "    .dataframe tbody tr th {\n",
       "        vertical-align: top;\n",
       "    }\n",
       "\n",
       "    .dataframe thead th {\n",
       "        text-align: right;\n",
       "    }\n",
       "</style>\n",
       "<table border=\"1\" class=\"dataframe\">\n",
       "  <thead>\n",
       "    <tr style=\"text-align: right;\">\n",
       "      <th></th>\n",
       "      <th>timestamp</th>\n",
       "      <th>cylinder_number</th>\n",
       "      <th>customer</th>\n",
       "      <th>job_number</th>\n",
       "      <th>grain_screened</th>\n",
       "      <th>ink_color</th>\n",
       "      <th>proof_on_ctd_ink</th>\n",
       "      <th>blade_mfg</th>\n",
       "      <th>cylinder_division</th>\n",
       "      <th>paper_type</th>\n",
       "      <th>ink_type</th>\n",
       "      <th>direct_steam</th>\n",
       "      <th>solvent_type</th>\n",
       "      <th>type_on_cylinder</th>\n",
       "      <th>press_type</th>\n",
       "      <th>press</th>\n",
       "      <th>unit_number</th>\n",
       "      <th>cylinder_size</th>\n",
       "      <th>paper_mill_location</th>\n",
       "      <th>plating_tank</th>\n",
       "      <th>proof_cut</th>\n",
       "      <th>viscosity</th>\n",
       "      <th>caliper</th>\n",
       "      <th>ink_temperature</th>\n",
       "      <th>humifity</th>\n",
       "      <th>roughness</th>\n",
       "      <th>blade_pressure</th>\n",
       "      <th>varnish_pct</th>\n",
       "      <th>press_speed</th>\n",
       "      <th>ink_pct</th>\n",
       "      <th>solvent_pct</th>\n",
       "      <th>ESA_Voltage</th>\n",
       "      <th>ESA_Amperage</th>\n",
       "      <th>wax</th>\n",
       "      <th>hardener</th>\n",
       "      <th>roller_durometer</th>\n",
       "      <th>current_density</th>\n",
       "      <th>anode_space_ratio</th>\n",
       "      <th>chrome_content</th>\n",
       "      <th>band_type</th>\n",
       "    </tr>\n",
       "  </thead>\n",
       "  <tbody>\n",
       "    <tr>\n",
       "      <th>0</th>\n",
       "      <td>19910108</td>\n",
       "      <td>x126</td>\n",
       "      <td>tvguide</td>\n",
       "      <td>25503</td>\n",
       "      <td>yes</td>\n",
       "      <td>key</td>\n",
       "      <td>yes</td>\n",
       "      <td>benton</td>\n",
       "      <td>gallatin</td>\n",
       "      <td>uncoated</td>\n",
       "      <td>uncoated</td>\n",
       "      <td>no</td>\n",
       "      <td>line</td>\n",
       "      <td>yes</td>\n",
       "      <td>motter94</td>\n",
       "      <td>821</td>\n",
       "      <td>2</td>\n",
       "      <td>tabloid</td>\n",
       "      <td>northus</td>\n",
       "      <td>1911</td>\n",
       "      <td>55</td>\n",
       "      <td>46</td>\n",
       "      <td>0.2</td>\n",
       "      <td>17</td>\n",
       "      <td>78</td>\n",
       "      <td>0.75</td>\n",
       "      <td>20</td>\n",
       "      <td>13.1</td>\n",
       "      <td>1700</td>\n",
       "      <td>50.5</td>\n",
       "      <td>36.4</td>\n",
       "      <td>0</td>\n",
       "      <td>0</td>\n",
       "      <td>2.5</td>\n",
       "      <td>1</td>\n",
       "      <td>34</td>\n",
       "      <td>40</td>\n",
       "      <td>105</td>\n",
       "      <td>100</td>\n",
       "      <td>band</td>\n",
       "    </tr>\n",
       "    <tr>\n",
       "      <th>1</th>\n",
       "      <td>19910109</td>\n",
       "      <td>x266</td>\n",
       "      <td>tvguide</td>\n",
       "      <td>25503</td>\n",
       "      <td>yes</td>\n",
       "      <td>key</td>\n",
       "      <td>yes</td>\n",
       "      <td>benton</td>\n",
       "      <td>gallatin</td>\n",
       "      <td>uncoated</td>\n",
       "      <td>uncoated</td>\n",
       "      <td>no</td>\n",
       "      <td>line</td>\n",
       "      <td>yes</td>\n",
       "      <td>motter94</td>\n",
       "      <td>821</td>\n",
       "      <td>2</td>\n",
       "      <td>tabloid</td>\n",
       "      <td>northus</td>\n",
       "      <td>NaN</td>\n",
       "      <td>55</td>\n",
       "      <td>46</td>\n",
       "      <td>0.3</td>\n",
       "      <td>15</td>\n",
       "      <td>80</td>\n",
       "      <td>0.75</td>\n",
       "      <td>20</td>\n",
       "      <td>6.6</td>\n",
       "      <td>1900</td>\n",
       "      <td>54.9</td>\n",
       "      <td>38.5</td>\n",
       "      <td>0</td>\n",
       "      <td>0</td>\n",
       "      <td>2.5</td>\n",
       "      <td>0.7</td>\n",
       "      <td>34</td>\n",
       "      <td>40</td>\n",
       "      <td>105</td>\n",
       "      <td>100</td>\n",
       "      <td>noband</td>\n",
       "    </tr>\n",
       "    <tr>\n",
       "      <th>2</th>\n",
       "      <td>19910104</td>\n",
       "      <td>b7</td>\n",
       "      <td>modmat</td>\n",
       "      <td>47201</td>\n",
       "      <td>yes</td>\n",
       "      <td>key</td>\n",
       "      <td>yes</td>\n",
       "      <td>benton</td>\n",
       "      <td>gallatin</td>\n",
       "      <td>uncoated</td>\n",
       "      <td>coated</td>\n",
       "      <td>no</td>\n",
       "      <td>line</td>\n",
       "      <td>yes</td>\n",
       "      <td>woodhoe70</td>\n",
       "      <td>815</td>\n",
       "      <td>9</td>\n",
       "      <td>catalog</td>\n",
       "      <td>northus</td>\n",
       "      <td>NaN</td>\n",
       "      <td>62</td>\n",
       "      <td>40</td>\n",
       "      <td>0.433</td>\n",
       "      <td>16</td>\n",
       "      <td>80</td>\n",
       "      <td>NaN</td>\n",
       "      <td>30</td>\n",
       "      <td>6.5</td>\n",
       "      <td>1850</td>\n",
       "      <td>53.8</td>\n",
       "      <td>39.8</td>\n",
       "      <td>0</td>\n",
       "      <td>0</td>\n",
       "      <td>2.8</td>\n",
       "      <td>0.9</td>\n",
       "      <td>40</td>\n",
       "      <td>40</td>\n",
       "      <td>103.87</td>\n",
       "      <td>100</td>\n",
       "      <td>noband</td>\n",
       "    </tr>\n",
       "    <tr>\n",
       "      <th>3</th>\n",
       "      <td>19910104</td>\n",
       "      <td>t133</td>\n",
       "      <td>massey</td>\n",
       "      <td>39039</td>\n",
       "      <td>yes</td>\n",
       "      <td>key</td>\n",
       "      <td>yes</td>\n",
       "      <td>benton</td>\n",
       "      <td>gallatin</td>\n",
       "      <td>uncoated</td>\n",
       "      <td>uncoated</td>\n",
       "      <td>no</td>\n",
       "      <td>line</td>\n",
       "      <td>yes</td>\n",
       "      <td>woodhoe70</td>\n",
       "      <td>816</td>\n",
       "      <td>9</td>\n",
       "      <td>catalog</td>\n",
       "      <td>northus</td>\n",
       "      <td>1910</td>\n",
       "      <td>52</td>\n",
       "      <td>40</td>\n",
       "      <td>0.3</td>\n",
       "      <td>16</td>\n",
       "      <td>75</td>\n",
       "      <td>0.3125</td>\n",
       "      <td>30</td>\n",
       "      <td>5.6</td>\n",
       "      <td>1467</td>\n",
       "      <td>55.6</td>\n",
       "      <td>38.8</td>\n",
       "      <td>0</td>\n",
       "      <td>0</td>\n",
       "      <td>2.5</td>\n",
       "      <td>1.3</td>\n",
       "      <td>40</td>\n",
       "      <td>40</td>\n",
       "      <td>108.06</td>\n",
       "      <td>100</td>\n",
       "      <td>noband</td>\n",
       "    </tr>\n",
       "    <tr>\n",
       "      <th>4</th>\n",
       "      <td>19910111</td>\n",
       "      <td>j34</td>\n",
       "      <td>kmart</td>\n",
       "      <td>37351</td>\n",
       "      <td>no</td>\n",
       "      <td>key</td>\n",
       "      <td>yes</td>\n",
       "      <td>benton</td>\n",
       "      <td>gallatin</td>\n",
       "      <td>uncoated</td>\n",
       "      <td>coated</td>\n",
       "      <td>no</td>\n",
       "      <td>line</td>\n",
       "      <td>yes</td>\n",
       "      <td>woodhoe70</td>\n",
       "      <td>816</td>\n",
       "      <td>2</td>\n",
       "      <td>tabloid</td>\n",
       "      <td>NaN</td>\n",
       "      <td>1910</td>\n",
       "      <td>50</td>\n",
       "      <td>46</td>\n",
       "      <td>0.3</td>\n",
       "      <td>17</td>\n",
       "      <td>80</td>\n",
       "      <td>0.75</td>\n",
       "      <td>30</td>\n",
       "      <td>0</td>\n",
       "      <td>2100</td>\n",
       "      <td>57.5</td>\n",
       "      <td>42.5</td>\n",
       "      <td>5</td>\n",
       "      <td>0</td>\n",
       "      <td>2.3</td>\n",
       "      <td>0.6</td>\n",
       "      <td>35</td>\n",
       "      <td>40</td>\n",
       "      <td>106.67</td>\n",
       "      <td>100</td>\n",
       "      <td>noband</td>\n",
       "    </tr>\n",
       "    <tr>\n",
       "      <th>...</th>\n",
       "      <td>...</td>\n",
       "      <td>...</td>\n",
       "      <td>...</td>\n",
       "      <td>...</td>\n",
       "      <td>...</td>\n",
       "      <td>...</td>\n",
       "      <td>...</td>\n",
       "      <td>...</td>\n",
       "      <td>...</td>\n",
       "      <td>...</td>\n",
       "      <td>...</td>\n",
       "      <td>...</td>\n",
       "      <td>...</td>\n",
       "      <td>...</td>\n",
       "      <td>...</td>\n",
       "      <td>...</td>\n",
       "      <td>...</td>\n",
       "      <td>...</td>\n",
       "      <td>...</td>\n",
       "      <td>...</td>\n",
       "      <td>...</td>\n",
       "      <td>...</td>\n",
       "      <td>...</td>\n",
       "      <td>...</td>\n",
       "      <td>...</td>\n",
       "      <td>...</td>\n",
       "      <td>...</td>\n",
       "      <td>...</td>\n",
       "      <td>...</td>\n",
       "      <td>...</td>\n",
       "      <td>...</td>\n",
       "      <td>...</td>\n",
       "      <td>...</td>\n",
       "      <td>...</td>\n",
       "      <td>...</td>\n",
       "      <td>...</td>\n",
       "      <td>...</td>\n",
       "      <td>...</td>\n",
       "      <td>...</td>\n",
       "      <td>...</td>\n",
       "    </tr>\n",
       "    <tr>\n",
       "      <th>535</th>\n",
       "      <td>19941005</td>\n",
       "      <td>aa66</td>\n",
       "      <td>kmart</td>\n",
       "      <td>85813</td>\n",
       "      <td>NaN</td>\n",
       "      <td>key</td>\n",
       "      <td>NaN</td>\n",
       "      <td>NaN</td>\n",
       "      <td>gallatin</td>\n",
       "      <td>super</td>\n",
       "      <td>uncoated</td>\n",
       "      <td>NaN</td>\n",
       "      <td>NaN</td>\n",
       "      <td>NaN</td>\n",
       "      <td>motter94</td>\n",
       "      <td>827</td>\n",
       "      <td>9</td>\n",
       "      <td>tabloid</td>\n",
       "      <td>NaN</td>\n",
       "      <td>1910</td>\n",
       "      <td>NaN</td>\n",
       "      <td>52</td>\n",
       "      <td>NaN</td>\n",
       "      <td>18</td>\n",
       "      <td>82</td>\n",
       "      <td>1</td>\n",
       "      <td>25</td>\n",
       "      <td>NaN</td>\n",
       "      <td>1880</td>\n",
       "      <td>NaN</td>\n",
       "      <td>NaN</td>\n",
       "      <td>NaN</td>\n",
       "      <td>NaN</td>\n",
       "      <td>1</td>\n",
       "      <td>1</td>\n",
       "      <td>NaN</td>\n",
       "      <td>40</td>\n",
       "      <td>112.5</td>\n",
       "      <td>100</td>\n",
       "      <td>band</td>\n",
       "    </tr>\n",
       "    <tr>\n",
       "      <th>536</th>\n",
       "      <td>19941009</td>\n",
       "      <td>j44</td>\n",
       "      <td>best</td>\n",
       "      <td>38064</td>\n",
       "      <td>NaN</td>\n",
       "      <td>key</td>\n",
       "      <td>NaN</td>\n",
       "      <td>NaN</td>\n",
       "      <td>gallatin</td>\n",
       "      <td>super</td>\n",
       "      <td>coated</td>\n",
       "      <td>NaN</td>\n",
       "      <td>NaN</td>\n",
       "      <td>yes</td>\n",
       "      <td>albert70</td>\n",
       "      <td>815</td>\n",
       "      <td>1</td>\n",
       "      <td>tabloid</td>\n",
       "      <td>NaN</td>\n",
       "      <td>1910</td>\n",
       "      <td>NaN</td>\n",
       "      <td>NaN</td>\n",
       "      <td>0.200</td>\n",
       "      <td>16.1</td>\n",
       "      <td>76</td>\n",
       "      <td>0.500</td>\n",
       "      <td>34</td>\n",
       "      <td>NaN</td>\n",
       "      <td>2100</td>\n",
       "      <td>NaN</td>\n",
       "      <td>NaN</td>\n",
       "      <td>NaN</td>\n",
       "      <td>NaN</td>\n",
       "      <td>0</td>\n",
       "      <td>0</td>\n",
       "      <td>NaN</td>\n",
       "      <td>40</td>\n",
       "      <td>110</td>\n",
       "      <td>100</td>\n",
       "      <td>band</td>\n",
       "    </tr>\n",
       "    <tr>\n",
       "      <th>537</th>\n",
       "      <td>19941009</td>\n",
       "      <td>aa58</td>\n",
       "      <td>kmart</td>\n",
       "      <td>85814</td>\n",
       "      <td>NaN</td>\n",
       "      <td>key</td>\n",
       "      <td>NaN</td>\n",
       "      <td>NaN</td>\n",
       "      <td>gallatin</td>\n",
       "      <td>super</td>\n",
       "      <td>coated</td>\n",
       "      <td>NaN</td>\n",
       "      <td>NaN</td>\n",
       "      <td>NaN</td>\n",
       "      <td>motter94</td>\n",
       "      <td>827</td>\n",
       "      <td>2</td>\n",
       "      <td>tabloid</td>\n",
       "      <td>NaN</td>\n",
       "      <td>1910</td>\n",
       "      <td>NaN</td>\n",
       "      <td>NaN</td>\n",
       "      <td>0.300</td>\n",
       "      <td>16.5</td>\n",
       "      <td>70</td>\n",
       "      <td>1</td>\n",
       "      <td>34</td>\n",
       "      <td>NaN</td>\n",
       "      <td>1903</td>\n",
       "      <td>NaN</td>\n",
       "      <td>NaN</td>\n",
       "      <td>NaN</td>\n",
       "      <td>NaN</td>\n",
       "      <td>2.7</td>\n",
       "      <td>2.8</td>\n",
       "      <td>NaN</td>\n",
       "      <td>40</td>\n",
       "      <td>108</td>\n",
       "      <td>100</td>\n",
       "      <td>band</td>\n",
       "    </tr>\n",
       "    <tr>\n",
       "      <th>538</th>\n",
       "      <td>19941010</td>\n",
       "      <td>aa70</td>\n",
       "      <td>kmart</td>\n",
       "      <td>85814</td>\n",
       "      <td>NaN</td>\n",
       "      <td>key</td>\n",
       "      <td>NaN</td>\n",
       "      <td>NaN</td>\n",
       "      <td>gallatin</td>\n",
       "      <td>super</td>\n",
       "      <td>uncoated</td>\n",
       "      <td>NaN</td>\n",
       "      <td>NaN</td>\n",
       "      <td>NaN</td>\n",
       "      <td>motter94</td>\n",
       "      <td>828</td>\n",
       "      <td>2</td>\n",
       "      <td>tabloid</td>\n",
       "      <td>NaN</td>\n",
       "      <td>1910</td>\n",
       "      <td>NaN</td>\n",
       "      <td>46</td>\n",
       "      <td>0.267</td>\n",
       "      <td>16.4</td>\n",
       "      <td>76</td>\n",
       "      <td>1</td>\n",
       "      <td>34</td>\n",
       "      <td>NaN</td>\n",
       "      <td>1903</td>\n",
       "      <td>NaN</td>\n",
       "      <td>NaN</td>\n",
       "      <td>NaN</td>\n",
       "      <td>NaN</td>\n",
       "      <td>1.5</td>\n",
       "      <td>2.3</td>\n",
       "      <td>NaN</td>\n",
       "      <td>40</td>\n",
       "      <td>108</td>\n",
       "      <td>100</td>\n",
       "      <td>band</td>\n",
       "    </tr>\n",
       "    <tr>\n",
       "      <th>539</th>\n",
       "      <td>19941010</td>\n",
       "      <td>j70</td>\n",
       "      <td>best</td>\n",
       "      <td>38064</td>\n",
       "      <td>NaN</td>\n",
       "      <td>key</td>\n",
       "      <td>NaN</td>\n",
       "      <td>NaN</td>\n",
       "      <td>gallatin</td>\n",
       "      <td>super</td>\n",
       "      <td>uncoated</td>\n",
       "      <td>NaN</td>\n",
       "      <td>NaN</td>\n",
       "      <td>yes</td>\n",
       "      <td>albert70</td>\n",
       "      <td>815</td>\n",
       "      <td>1</td>\n",
       "      <td>tabloid</td>\n",
       "      <td>NaN</td>\n",
       "      <td>1910</td>\n",
       "      <td>NaN</td>\n",
       "      <td>46</td>\n",
       "      <td>0.200</td>\n",
       "      <td>14.2</td>\n",
       "      <td>75</td>\n",
       "      <td>0.75</td>\n",
       "      <td>25</td>\n",
       "      <td>NaN</td>\n",
       "      <td>2050</td>\n",
       "      <td>NaN</td>\n",
       "      <td>NaN</td>\n",
       "      <td>NaN</td>\n",
       "      <td>NaN</td>\n",
       "      <td>2.5</td>\n",
       "      <td>1</td>\n",
       "      <td>NaN</td>\n",
       "      <td>40</td>\n",
       "      <td>108.1</td>\n",
       "      <td>100</td>\n",
       "      <td>band</td>\n",
       "    </tr>\n",
       "  </tbody>\n",
       "</table>\n",
       "<p>540 rows × 40 columns</p>\n",
       "</div>"
      ],
      "text/plain": [
       "     timestamp cylinder_number  ... chrome_content  band_type\n",
       "0     19910108            x126  ...            100       band\n",
       "1     19910109            x266  ...            100     noband\n",
       "2     19910104              b7  ...            100     noband\n",
       "3     19910104            t133  ...            100     noband\n",
       "4     19910111             j34  ...            100     noband\n",
       "..         ...             ...  ...            ...        ...\n",
       "535   19941005            aa66  ...            100       band\n",
       "536   19941009             j44  ...            100       band\n",
       "537   19941009            aa58  ...            100       band\n",
       "538   19941010            aa70  ...            100       band\n",
       "539   19941010             j70  ...            100       band\n",
       "\n",
       "[540 rows x 40 columns]"
      ]
     },
     "execution_count": 245,
     "metadata": {
      "tags": []
     },
     "output_type": "execute_result"
    }
   ],
   "source": [
    "cylinder1 = cylinder.replace('?',np.nan)\n",
    "cylinder1"
   ]
  },
  {
   "cell_type": "code",
   "execution_count": 246,
   "metadata": {
    "colab": {
     "base_uri": "https://localhost:8080/",
     "height": 714
    },
    "colab_type": "code",
    "id": "x9jIaK1N_xJe",
    "outputId": "636351a3-c86a-4fb9-b002-b798380bdcd1"
   },
   "outputs": [
    {
     "data": {
      "text/plain": [
       "timestamp                0\n",
       "cylinder_number          0\n",
       "customer                 0\n",
       "job_number               0\n",
       "grain_screened          49\n",
       "ink_color                0\n",
       "proof_on_ctd_ink        57\n",
       "blade_mfg               60\n",
       "cylinder_division        0\n",
       "paper_type               0\n",
       "ink_type                 0\n",
       "direct_steam            25\n",
       "solvent_type            55\n",
       "type_on_cylinder        18\n",
       "press_type               0\n",
       "press                    0\n",
       "unit_number              0\n",
       "cylinder_size            3\n",
       "paper_mill_location    156\n",
       "plating_tank            18\n",
       "proof_cut               55\n",
       "viscosity                5\n",
       "caliper                 27\n",
       "ink_temperature          2\n",
       "humifity                 1\n",
       "roughness               30\n",
       "blade_pressure          63\n",
       "varnish_pct             56\n",
       "press_speed             10\n",
       "ink_pct                 56\n",
       "solvent_pct             56\n",
       "ESA_Voltage             57\n",
       "ESA_Amperage            55\n",
       "wax                      6\n",
       "hardener                 7\n",
       "roller_durometer        55\n",
       "current_density          7\n",
       "anode_space_ratio        7\n",
       "chrome_content           3\n",
       "band_type                0\n",
       "dtype: int64"
      ]
     },
     "execution_count": 246,
     "metadata": {
      "tags": []
     },
     "output_type": "execute_result"
    }
   ],
   "source": [
    "cylinder1.isnull().sum()"
   ]
  },
  {
   "cell_type": "code",
   "execution_count": 0,
   "metadata": {
    "colab": {},
    "colab_type": "code",
    "id": "KY47mADyJ7Bq"
   },
   "outputs": [],
   "source": [
    "#blade_mfg, paper_mill_location and  blade_pressure\n",
    "#I find these variable with more tha 60 missing values so we drop these."
   ]
  },
  {
   "cell_type": "code",
   "execution_count": 365,
   "metadata": {
    "colab": {
     "base_uri": "https://localhost:8080/",
     "height": 224
    },
    "colab_type": "code",
    "id": "A97LcZCkLURa",
    "outputId": "a3eb72e4-da89-4db8-fae3-8838ee2b3849"
   },
   "outputs": [
    {
     "data": {
      "text/html": [
       "<div>\n",
       "<style scoped>\n",
       "    .dataframe tbody tr th:only-of-type {\n",
       "        vertical-align: middle;\n",
       "    }\n",
       "\n",
       "    .dataframe tbody tr th {\n",
       "        vertical-align: top;\n",
       "    }\n",
       "\n",
       "    .dataframe thead th {\n",
       "        text-align: right;\n",
       "    }\n",
       "</style>\n",
       "<table border=\"1\" class=\"dataframe\">\n",
       "  <thead>\n",
       "    <tr style=\"text-align: right;\">\n",
       "      <th></th>\n",
       "      <th>timestamp</th>\n",
       "      <th>cylinder_number</th>\n",
       "      <th>customer</th>\n",
       "      <th>job_number</th>\n",
       "      <th>grain_screened</th>\n",
       "      <th>ink_color</th>\n",
       "      <th>proof_on_ctd_ink</th>\n",
       "      <th>cylinder_division</th>\n",
       "      <th>paper_type</th>\n",
       "      <th>ink_type</th>\n",
       "      <th>direct_steam</th>\n",
       "      <th>solvent_type</th>\n",
       "      <th>type_on_cylinder</th>\n",
       "      <th>press_type</th>\n",
       "      <th>press</th>\n",
       "      <th>unit_number</th>\n",
       "      <th>cylinder_size</th>\n",
       "      <th>plating_tank</th>\n",
       "      <th>proof_cut</th>\n",
       "      <th>viscosity</th>\n",
       "      <th>caliper</th>\n",
       "      <th>ink_temperature</th>\n",
       "      <th>humifity</th>\n",
       "      <th>roughness</th>\n",
       "      <th>varnish_pct</th>\n",
       "      <th>press_speed</th>\n",
       "      <th>ink_pct</th>\n",
       "      <th>solvent_pct</th>\n",
       "      <th>ESA_Voltage</th>\n",
       "      <th>ESA_Amperage</th>\n",
       "      <th>wax</th>\n",
       "      <th>hardener</th>\n",
       "      <th>roller_durometer</th>\n",
       "      <th>current_density</th>\n",
       "      <th>anode_space_ratio</th>\n",
       "      <th>chrome_content</th>\n",
       "      <th>band_type</th>\n",
       "    </tr>\n",
       "  </thead>\n",
       "  <tbody>\n",
       "    <tr>\n",
       "      <th>0</th>\n",
       "      <td>19910108</td>\n",
       "      <td>x126</td>\n",
       "      <td>tvguide</td>\n",
       "      <td>25503</td>\n",
       "      <td>yes</td>\n",
       "      <td>key</td>\n",
       "      <td>yes</td>\n",
       "      <td>gallatin</td>\n",
       "      <td>uncoated</td>\n",
       "      <td>uncoated</td>\n",
       "      <td>no</td>\n",
       "      <td>line</td>\n",
       "      <td>yes</td>\n",
       "      <td>motter94</td>\n",
       "      <td>821</td>\n",
       "      <td>2</td>\n",
       "      <td>tabloid</td>\n",
       "      <td>1911</td>\n",
       "      <td>55</td>\n",
       "      <td>46</td>\n",
       "      <td>0.2</td>\n",
       "      <td>17</td>\n",
       "      <td>78</td>\n",
       "      <td>0.75</td>\n",
       "      <td>13.1</td>\n",
       "      <td>1700</td>\n",
       "      <td>50.5</td>\n",
       "      <td>36.4</td>\n",
       "      <td>0</td>\n",
       "      <td>0</td>\n",
       "      <td>2.5</td>\n",
       "      <td>1</td>\n",
       "      <td>34</td>\n",
       "      <td>40</td>\n",
       "      <td>105</td>\n",
       "      <td>100</td>\n",
       "      <td>band</td>\n",
       "    </tr>\n",
       "    <tr>\n",
       "      <th>1</th>\n",
       "      <td>19910109</td>\n",
       "      <td>x266</td>\n",
       "      <td>tvguide</td>\n",
       "      <td>25503</td>\n",
       "      <td>yes</td>\n",
       "      <td>key</td>\n",
       "      <td>yes</td>\n",
       "      <td>gallatin</td>\n",
       "      <td>uncoated</td>\n",
       "      <td>uncoated</td>\n",
       "      <td>no</td>\n",
       "      <td>line</td>\n",
       "      <td>yes</td>\n",
       "      <td>motter94</td>\n",
       "      <td>821</td>\n",
       "      <td>2</td>\n",
       "      <td>tabloid</td>\n",
       "      <td>NaN</td>\n",
       "      <td>55</td>\n",
       "      <td>46</td>\n",
       "      <td>0.3</td>\n",
       "      <td>15</td>\n",
       "      <td>80</td>\n",
       "      <td>0.75</td>\n",
       "      <td>6.6</td>\n",
       "      <td>1900</td>\n",
       "      <td>54.9</td>\n",
       "      <td>38.5</td>\n",
       "      <td>0</td>\n",
       "      <td>0</td>\n",
       "      <td>2.5</td>\n",
       "      <td>0.7</td>\n",
       "      <td>34</td>\n",
       "      <td>40</td>\n",
       "      <td>105</td>\n",
       "      <td>100</td>\n",
       "      <td>noband</td>\n",
       "    </tr>\n",
       "    <tr>\n",
       "      <th>2</th>\n",
       "      <td>19910104</td>\n",
       "      <td>b7</td>\n",
       "      <td>modmat</td>\n",
       "      <td>47201</td>\n",
       "      <td>yes</td>\n",
       "      <td>key</td>\n",
       "      <td>yes</td>\n",
       "      <td>gallatin</td>\n",
       "      <td>uncoated</td>\n",
       "      <td>coated</td>\n",
       "      <td>no</td>\n",
       "      <td>line</td>\n",
       "      <td>yes</td>\n",
       "      <td>woodhoe70</td>\n",
       "      <td>815</td>\n",
       "      <td>9</td>\n",
       "      <td>catalog</td>\n",
       "      <td>NaN</td>\n",
       "      <td>62</td>\n",
       "      <td>40</td>\n",
       "      <td>0.433</td>\n",
       "      <td>16</td>\n",
       "      <td>80</td>\n",
       "      <td>NaN</td>\n",
       "      <td>6.5</td>\n",
       "      <td>1850</td>\n",
       "      <td>53.8</td>\n",
       "      <td>39.8</td>\n",
       "      <td>0</td>\n",
       "      <td>0</td>\n",
       "      <td>2.8</td>\n",
       "      <td>0.9</td>\n",
       "      <td>40</td>\n",
       "      <td>40</td>\n",
       "      <td>103.87</td>\n",
       "      <td>100</td>\n",
       "      <td>noband</td>\n",
       "    </tr>\n",
       "    <tr>\n",
       "      <th>3</th>\n",
       "      <td>19910104</td>\n",
       "      <td>t133</td>\n",
       "      <td>massey</td>\n",
       "      <td>39039</td>\n",
       "      <td>yes</td>\n",
       "      <td>key</td>\n",
       "      <td>yes</td>\n",
       "      <td>gallatin</td>\n",
       "      <td>uncoated</td>\n",
       "      <td>uncoated</td>\n",
       "      <td>no</td>\n",
       "      <td>line</td>\n",
       "      <td>yes</td>\n",
       "      <td>woodhoe70</td>\n",
       "      <td>816</td>\n",
       "      <td>9</td>\n",
       "      <td>catalog</td>\n",
       "      <td>1910</td>\n",
       "      <td>52</td>\n",
       "      <td>40</td>\n",
       "      <td>0.3</td>\n",
       "      <td>16</td>\n",
       "      <td>75</td>\n",
       "      <td>0.3125</td>\n",
       "      <td>5.6</td>\n",
       "      <td>1467</td>\n",
       "      <td>55.6</td>\n",
       "      <td>38.8</td>\n",
       "      <td>0</td>\n",
       "      <td>0</td>\n",
       "      <td>2.5</td>\n",
       "      <td>1.3</td>\n",
       "      <td>40</td>\n",
       "      <td>40</td>\n",
       "      <td>108.06</td>\n",
       "      <td>100</td>\n",
       "      <td>noband</td>\n",
       "    </tr>\n",
       "    <tr>\n",
       "      <th>4</th>\n",
       "      <td>19910111</td>\n",
       "      <td>j34</td>\n",
       "      <td>kmart</td>\n",
       "      <td>37351</td>\n",
       "      <td>no</td>\n",
       "      <td>key</td>\n",
       "      <td>yes</td>\n",
       "      <td>gallatin</td>\n",
       "      <td>uncoated</td>\n",
       "      <td>coated</td>\n",
       "      <td>no</td>\n",
       "      <td>line</td>\n",
       "      <td>yes</td>\n",
       "      <td>woodhoe70</td>\n",
       "      <td>816</td>\n",
       "      <td>2</td>\n",
       "      <td>tabloid</td>\n",
       "      <td>1910</td>\n",
       "      <td>50</td>\n",
       "      <td>46</td>\n",
       "      <td>0.3</td>\n",
       "      <td>17</td>\n",
       "      <td>80</td>\n",
       "      <td>0.75</td>\n",
       "      <td>0</td>\n",
       "      <td>2100</td>\n",
       "      <td>57.5</td>\n",
       "      <td>42.5</td>\n",
       "      <td>5</td>\n",
       "      <td>0</td>\n",
       "      <td>2.3</td>\n",
       "      <td>0.6</td>\n",
       "      <td>35</td>\n",
       "      <td>40</td>\n",
       "      <td>106.67</td>\n",
       "      <td>100</td>\n",
       "      <td>noband</td>\n",
       "    </tr>\n",
       "  </tbody>\n",
       "</table>\n",
       "</div>"
      ],
      "text/plain": [
       "   timestamp cylinder_number  ... chrome_content  band_type\n",
       "0   19910108            x126  ...            100       band\n",
       "1   19910109            x266  ...            100     noband\n",
       "2   19910104              b7  ...            100     noband\n",
       "3   19910104            t133  ...            100     noband\n",
       "4   19910111             j34  ...            100     noband\n",
       "\n",
       "[5 rows x 37 columns]"
      ]
     },
     "execution_count": 365,
     "metadata": {
      "tags": []
     },
     "output_type": "execute_result"
    }
   ],
   "source": [
    "c1 = cylinder1.drop(['blade_mfg', 'paper_mill_location','blade_pressure'], axis= 1)\n",
    "c1.head()"
   ]
  },
  {
   "cell_type": "code",
   "execution_count": 366,
   "metadata": {
    "colab": {
     "base_uri": "https://localhost:8080/",
     "height": 663
    },
    "colab_type": "code",
    "id": "P1HeIL6pNyZt",
    "outputId": "9849b312-e1dd-45d6-9cf5-d11ae141b5a5"
   },
   "outputs": [
    {
     "data": {
      "text/plain": [
       "timestamp             0\n",
       "cylinder_number       0\n",
       "customer              0\n",
       "job_number            0\n",
       "grain_screened       49\n",
       "ink_color             0\n",
       "proof_on_ctd_ink     57\n",
       "cylinder_division     0\n",
       "paper_type            0\n",
       "ink_type              0\n",
       "direct_steam         25\n",
       "solvent_type         55\n",
       "type_on_cylinder     18\n",
       "press_type            0\n",
       "press                 0\n",
       "unit_number           0\n",
       "cylinder_size         3\n",
       "plating_tank         18\n",
       "proof_cut            55\n",
       "viscosity             5\n",
       "caliper              27\n",
       "ink_temperature       2\n",
       "humifity              1\n",
       "roughness            30\n",
       "varnish_pct          56\n",
       "press_speed          10\n",
       "ink_pct              56\n",
       "solvent_pct          56\n",
       "ESA_Voltage          57\n",
       "ESA_Amperage         55\n",
       "wax                   6\n",
       "hardener              7\n",
       "roller_durometer     55\n",
       "current_density       7\n",
       "anode_space_ratio     7\n",
       "chrome_content        3\n",
       "band_type             0\n",
       "dtype: int64"
      ]
     },
     "execution_count": 366,
     "metadata": {
      "tags": []
     },
     "output_type": "execute_result"
    }
   ],
   "source": [
    "c1.isna().sum()"
   ]
  },
  {
   "cell_type": "code",
   "execution_count": 367,
   "metadata": {
    "colab": {
     "base_uri": "https://localhost:8080/",
     "height": 731
    },
    "colab_type": "code",
    "id": "gBLX3G2bNZVg",
    "outputId": "352ce6b3-625a-4c47-d21f-cd84089e8bde"
   },
   "outputs": [
    {
     "name": "stdout",
     "output_type": "stream",
     "text": [
      "<class 'pandas.core.frame.DataFrame'>\n",
      "Int64Index: 398 entries, 0 to 484\n",
      "Data columns (total 37 columns):\n",
      "timestamp            398 non-null int64\n",
      "cylinder_number      398 non-null object\n",
      "customer             398 non-null object\n",
      "job_number           398 non-null int64\n",
      "grain_screened       398 non-null object\n",
      "ink_color            398 non-null object\n",
      "proof_on_ctd_ink     398 non-null object\n",
      "cylinder_division    398 non-null object\n",
      "paper_type           398 non-null object\n",
      "ink_type             398 non-null object\n",
      "direct_steam         398 non-null object\n",
      "solvent_type         398 non-null object\n",
      "type_on_cylinder     398 non-null object\n",
      "press_type           398 non-null object\n",
      "press                398 non-null int64\n",
      "unit_number          398 non-null int64\n",
      "cylinder_size        398 non-null object\n",
      "plating_tank         398 non-null object\n",
      "proof_cut            398 non-null object\n",
      "viscosity            398 non-null object\n",
      "caliper              398 non-null object\n",
      "ink_temperature      398 non-null object\n",
      "humifity             398 non-null object\n",
      "roughness            398 non-null object\n",
      "varnish_pct          398 non-null object\n",
      "press_speed          398 non-null object\n",
      "ink_pct              398 non-null object\n",
      "solvent_pct          398 non-null object\n",
      "ESA_Voltage          398 non-null object\n",
      "ESA_Amperage         398 non-null object\n",
      "wax                  398 non-null object\n",
      "hardener             398 non-null object\n",
      "roller_durometer     398 non-null object\n",
      "current_density      398 non-null object\n",
      "anode_space_ratio    398 non-null object\n",
      "chrome_content       398 non-null object\n",
      "band_type            398 non-null object\n",
      "dtypes: int64(4), object(33)\n",
      "memory usage: 118.2+ KB\n"
     ]
    }
   ],
   "source": [
    "c2 = c1.dropna()\n",
    "c2.info()"
   ]
  },
  {
   "cell_type": "code",
   "execution_count": 368,
   "metadata": {
    "colab": {
     "base_uri": "https://localhost:8080/",
     "height": 663
    },
    "colab_type": "code",
    "id": "mhDnlcUsO7dS",
    "outputId": "09db3486-5a0e-4003-eb08-cd9cbcdd44d3"
   },
   "outputs": [
    {
     "data": {
      "text/plain": [
       "timestamp            0\n",
       "cylinder_number      0\n",
       "customer             0\n",
       "job_number           0\n",
       "grain_screened       0\n",
       "ink_color            0\n",
       "proof_on_ctd_ink     0\n",
       "cylinder_division    0\n",
       "paper_type           0\n",
       "ink_type             0\n",
       "direct_steam         0\n",
       "solvent_type         0\n",
       "type_on_cylinder     0\n",
       "press_type           0\n",
       "press                0\n",
       "unit_number          0\n",
       "cylinder_size        0\n",
       "plating_tank         0\n",
       "proof_cut            0\n",
       "viscosity            0\n",
       "caliper              0\n",
       "ink_temperature      0\n",
       "humifity             0\n",
       "roughness            0\n",
       "varnish_pct          0\n",
       "press_speed          0\n",
       "ink_pct              0\n",
       "solvent_pct          0\n",
       "ESA_Voltage          0\n",
       "ESA_Amperage         0\n",
       "wax                  0\n",
       "hardener             0\n",
       "roller_durometer     0\n",
       "current_density      0\n",
       "anode_space_ratio    0\n",
       "chrome_content       0\n",
       "band_type            0\n",
       "dtype: int64"
      ]
     },
     "execution_count": 368,
     "metadata": {
      "tags": []
     },
     "output_type": "execute_result"
    }
   ],
   "source": [
    "c2.isna().sum()"
   ]
  },
  {
   "cell_type": "code",
   "execution_count": 369,
   "metadata": {
    "colab": {
     "base_uri": "https://localhost:8080/",
     "height": 224
    },
    "colab_type": "code",
    "id": "_2BoFHCzP6sk",
    "outputId": "61489df9-9b61-44ef-eb51-c7f29b0db2a0"
   },
   "outputs": [
    {
     "data": {
      "text/html": [
       "<div>\n",
       "<style scoped>\n",
       "    .dataframe tbody tr th:only-of-type {\n",
       "        vertical-align: middle;\n",
       "    }\n",
       "\n",
       "    .dataframe tbody tr th {\n",
       "        vertical-align: top;\n",
       "    }\n",
       "\n",
       "    .dataframe thead th {\n",
       "        text-align: right;\n",
       "    }\n",
       "</style>\n",
       "<table border=\"1\" class=\"dataframe\">\n",
       "  <thead>\n",
       "    <tr style=\"text-align: right;\">\n",
       "      <th></th>\n",
       "      <th>timestamp</th>\n",
       "      <th>customer</th>\n",
       "      <th>job_number</th>\n",
       "      <th>grain_screened</th>\n",
       "      <th>ink_color</th>\n",
       "      <th>proof_on_ctd_ink</th>\n",
       "      <th>cylinder_division</th>\n",
       "      <th>paper_type</th>\n",
       "      <th>ink_type</th>\n",
       "      <th>direct_steam</th>\n",
       "      <th>solvent_type</th>\n",
       "      <th>type_on_cylinder</th>\n",
       "      <th>press_type</th>\n",
       "      <th>press</th>\n",
       "      <th>unit_number</th>\n",
       "      <th>cylinder_size</th>\n",
       "      <th>plating_tank</th>\n",
       "      <th>proof_cut</th>\n",
       "      <th>viscosity</th>\n",
       "      <th>caliper</th>\n",
       "      <th>ink_temperature</th>\n",
       "      <th>humifity</th>\n",
       "      <th>roughness</th>\n",
       "      <th>varnish_pct</th>\n",
       "      <th>press_speed</th>\n",
       "      <th>ink_pct</th>\n",
       "      <th>solvent_pct</th>\n",
       "      <th>ESA_Voltage</th>\n",
       "      <th>ESA_Amperage</th>\n",
       "      <th>wax</th>\n",
       "      <th>hardener</th>\n",
       "      <th>roller_durometer</th>\n",
       "      <th>current_density</th>\n",
       "      <th>anode_space_ratio</th>\n",
       "      <th>chrome_content</th>\n",
       "      <th>band_type</th>\n",
       "    </tr>\n",
       "  </thead>\n",
       "  <tbody>\n",
       "    <tr>\n",
       "      <th>0</th>\n",
       "      <td>19910108</td>\n",
       "      <td>tvguide</td>\n",
       "      <td>25503</td>\n",
       "      <td>yes</td>\n",
       "      <td>key</td>\n",
       "      <td>yes</td>\n",
       "      <td>gallatin</td>\n",
       "      <td>uncoated</td>\n",
       "      <td>uncoated</td>\n",
       "      <td>no</td>\n",
       "      <td>line</td>\n",
       "      <td>yes</td>\n",
       "      <td>motter94</td>\n",
       "      <td>821</td>\n",
       "      <td>2</td>\n",
       "      <td>tabloid</td>\n",
       "      <td>1911</td>\n",
       "      <td>55</td>\n",
       "      <td>46</td>\n",
       "      <td>0.2</td>\n",
       "      <td>17</td>\n",
       "      <td>78</td>\n",
       "      <td>0.75</td>\n",
       "      <td>13.1</td>\n",
       "      <td>1700</td>\n",
       "      <td>50.5</td>\n",
       "      <td>36.4</td>\n",
       "      <td>0</td>\n",
       "      <td>0</td>\n",
       "      <td>2.5</td>\n",
       "      <td>1</td>\n",
       "      <td>34</td>\n",
       "      <td>40</td>\n",
       "      <td>105</td>\n",
       "      <td>100</td>\n",
       "      <td>band</td>\n",
       "    </tr>\n",
       "    <tr>\n",
       "      <th>3</th>\n",
       "      <td>19910104</td>\n",
       "      <td>massey</td>\n",
       "      <td>39039</td>\n",
       "      <td>yes</td>\n",
       "      <td>key</td>\n",
       "      <td>yes</td>\n",
       "      <td>gallatin</td>\n",
       "      <td>uncoated</td>\n",
       "      <td>uncoated</td>\n",
       "      <td>no</td>\n",
       "      <td>line</td>\n",
       "      <td>yes</td>\n",
       "      <td>woodhoe70</td>\n",
       "      <td>816</td>\n",
       "      <td>9</td>\n",
       "      <td>catalog</td>\n",
       "      <td>1910</td>\n",
       "      <td>52</td>\n",
       "      <td>40</td>\n",
       "      <td>0.3</td>\n",
       "      <td>16</td>\n",
       "      <td>75</td>\n",
       "      <td>0.3125</td>\n",
       "      <td>5.6</td>\n",
       "      <td>1467</td>\n",
       "      <td>55.6</td>\n",
       "      <td>38.8</td>\n",
       "      <td>0</td>\n",
       "      <td>0</td>\n",
       "      <td>2.5</td>\n",
       "      <td>1.3</td>\n",
       "      <td>40</td>\n",
       "      <td>40</td>\n",
       "      <td>108.06</td>\n",
       "      <td>100</td>\n",
       "      <td>noband</td>\n",
       "    </tr>\n",
       "    <tr>\n",
       "      <th>4</th>\n",
       "      <td>19910111</td>\n",
       "      <td>kmart</td>\n",
       "      <td>37351</td>\n",
       "      <td>no</td>\n",
       "      <td>key</td>\n",
       "      <td>yes</td>\n",
       "      <td>gallatin</td>\n",
       "      <td>uncoated</td>\n",
       "      <td>coated</td>\n",
       "      <td>no</td>\n",
       "      <td>line</td>\n",
       "      <td>yes</td>\n",
       "      <td>woodhoe70</td>\n",
       "      <td>816</td>\n",
       "      <td>2</td>\n",
       "      <td>tabloid</td>\n",
       "      <td>1910</td>\n",
       "      <td>50</td>\n",
       "      <td>46</td>\n",
       "      <td>0.3</td>\n",
       "      <td>17</td>\n",
       "      <td>80</td>\n",
       "      <td>0.75</td>\n",
       "      <td>0</td>\n",
       "      <td>2100</td>\n",
       "      <td>57.5</td>\n",
       "      <td>42.5</td>\n",
       "      <td>5</td>\n",
       "      <td>0</td>\n",
       "      <td>2.3</td>\n",
       "      <td>0.6</td>\n",
       "      <td>35</td>\n",
       "      <td>40</td>\n",
       "      <td>106.67</td>\n",
       "      <td>100</td>\n",
       "      <td>noband</td>\n",
       "    </tr>\n",
       "    <tr>\n",
       "      <th>5</th>\n",
       "      <td>19910104</td>\n",
       "      <td>massey</td>\n",
       "      <td>38039</td>\n",
       "      <td>yes</td>\n",
       "      <td>key</td>\n",
       "      <td>yes</td>\n",
       "      <td>gallatin</td>\n",
       "      <td>uncoated</td>\n",
       "      <td>uncoated</td>\n",
       "      <td>no</td>\n",
       "      <td>line</td>\n",
       "      <td>yes</td>\n",
       "      <td>woodhoe70</td>\n",
       "      <td>816</td>\n",
       "      <td>2</td>\n",
       "      <td>catalog</td>\n",
       "      <td>1910</td>\n",
       "      <td>50</td>\n",
       "      <td>40</td>\n",
       "      <td>0.267</td>\n",
       "      <td>16.8</td>\n",
       "      <td>76</td>\n",
       "      <td>0.4375</td>\n",
       "      <td>8.6</td>\n",
       "      <td>1467</td>\n",
       "      <td>53.8</td>\n",
       "      <td>37.6</td>\n",
       "      <td>5</td>\n",
       "      <td>0</td>\n",
       "      <td>2.5</td>\n",
       "      <td>0.8</td>\n",
       "      <td>40</td>\n",
       "      <td>40</td>\n",
       "      <td>103.87</td>\n",
       "      <td>100</td>\n",
       "      <td>noband</td>\n",
       "    </tr>\n",
       "    <tr>\n",
       "      <th>6</th>\n",
       "      <td>19910111</td>\n",
       "      <td>roses</td>\n",
       "      <td>35751</td>\n",
       "      <td>no</td>\n",
       "      <td>key</td>\n",
       "      <td>yes</td>\n",
       "      <td>gallatin</td>\n",
       "      <td>coated</td>\n",
       "      <td>coated</td>\n",
       "      <td>no</td>\n",
       "      <td>line</td>\n",
       "      <td>yes</td>\n",
       "      <td>motter94</td>\n",
       "      <td>827</td>\n",
       "      <td>2</td>\n",
       "      <td>tabloid</td>\n",
       "      <td>1911</td>\n",
       "      <td>50</td>\n",
       "      <td>46</td>\n",
       "      <td>0.3</td>\n",
       "      <td>16.5</td>\n",
       "      <td>75</td>\n",
       "      <td>0.75</td>\n",
       "      <td>0</td>\n",
       "      <td>2600</td>\n",
       "      <td>62.5</td>\n",
       "      <td>37.5</td>\n",
       "      <td>6</td>\n",
       "      <td>0</td>\n",
       "      <td>2.5</td>\n",
       "      <td>0.6</td>\n",
       "      <td>30</td>\n",
       "      <td>40</td>\n",
       "      <td>106.67</td>\n",
       "      <td>100</td>\n",
       "      <td>noband</td>\n",
       "    </tr>\n",
       "  </tbody>\n",
       "</table>\n",
       "</div>"
      ],
      "text/plain": [
       "   timestamp customer  job_number  ... anode_space_ratio chrome_content band_type\n",
       "0   19910108  tvguide       25503  ...               105            100      band\n",
       "3   19910104   massey       39039  ...            108.06            100    noband\n",
       "4   19910111    kmart       37351  ...            106.67            100    noband\n",
       "5   19910104   massey       38039  ...            103.87            100    noband\n",
       "6   19910111    roses       35751  ...            106.67            100    noband\n",
       "\n",
       "[5 rows x 36 columns]"
      ]
     },
     "execution_count": 369,
     "metadata": {
      "tags": []
     },
     "output_type": "execute_result"
    }
   ],
   "source": [
    "#As cylinder number is an identifier and should be ignored when modeling the data\n",
    "#We will drop cylinder_number.value\n",
    "c_new = c2.drop(['cylinder_number'], axis =1)\n",
    "c_new.head()"
   ]
  },
  {
   "cell_type": "code",
   "execution_count": 0,
   "metadata": {
    "colab": {},
    "colab_type": "code",
    "id": "3jU0bCzaRXHB"
   },
   "outputs": [],
   "source": [
    "#As our target value is Band Type. Lets see the different parameters affecting target variable."
   ]
  },
  {
   "cell_type": "code",
   "execution_count": 370,
   "metadata": {
    "colab": {
     "base_uri": "https://localhost:8080/",
     "height": 297
    },
    "colab_type": "code",
    "id": "wvhWDMlKbsXf",
    "outputId": "1bdcdc0b-c2ee-4f5b-b302-4826e6ca0014"
   },
   "outputs": [
    {
     "data": {
      "text/html": [
       "<div>\n",
       "<style scoped>\n",
       "    .dataframe tbody tr th:only-of-type {\n",
       "        vertical-align: middle;\n",
       "    }\n",
       "\n",
       "    .dataframe tbody tr th {\n",
       "        vertical-align: top;\n",
       "    }\n",
       "\n",
       "    .dataframe thead th {\n",
       "        text-align: right;\n",
       "    }\n",
       "</style>\n",
       "<table border=\"1\" class=\"dataframe\">\n",
       "  <thead>\n",
       "    <tr style=\"text-align: right;\">\n",
       "      <th></th>\n",
       "      <th>timestamp</th>\n",
       "      <th>job_number</th>\n",
       "      <th>press</th>\n",
       "      <th>unit_number</th>\n",
       "    </tr>\n",
       "  </thead>\n",
       "  <tbody>\n",
       "    <tr>\n",
       "      <th>count</th>\n",
       "      <td>3.980000e+02</td>\n",
       "      <td>398.000000</td>\n",
       "      <td>398.000000</td>\n",
       "      <td>398.000000</td>\n",
       "    </tr>\n",
       "    <tr>\n",
       "      <th>mean</th>\n",
       "      <td>1.990562e+07</td>\n",
       "      <td>36525.638191</td>\n",
       "      <td>817.422111</td>\n",
       "      <td>5.027638</td>\n",
       "    </tr>\n",
       "    <tr>\n",
       "      <th>std</th>\n",
       "      <td>5.091589e+03</td>\n",
       "      <td>6562.418919</td>\n",
       "      <td>7.606686</td>\n",
       "      <td>3.262139</td>\n",
       "    </tr>\n",
       "    <tr>\n",
       "      <th>min</th>\n",
       "      <td>1.990041e+07</td>\n",
       "      <td>23048.000000</td>\n",
       "      <td>802.000000</td>\n",
       "      <td>1.000000</td>\n",
       "    </tr>\n",
       "    <tr>\n",
       "      <th>25%</th>\n",
       "      <td>1.990082e+07</td>\n",
       "      <td>34588.500000</td>\n",
       "      <td>815.000000</td>\n",
       "      <td>2.000000</td>\n",
       "    </tr>\n",
       "    <tr>\n",
       "      <th>50%</th>\n",
       "      <td>1.990122e+07</td>\n",
       "      <td>36165.500000</td>\n",
       "      <td>816.000000</td>\n",
       "      <td>5.000000</td>\n",
       "    </tr>\n",
       "    <tr>\n",
       "      <th>75%</th>\n",
       "      <td>1.991042e+07</td>\n",
       "      <td>37501.000000</td>\n",
       "      <td>824.000000</td>\n",
       "      <td>9.000000</td>\n",
       "    </tr>\n",
       "    <tr>\n",
       "      <th>max</th>\n",
       "      <td>1.992022e+07</td>\n",
       "      <td>88231.000000</td>\n",
       "      <td>828.000000</td>\n",
       "      <td>10.000000</td>\n",
       "    </tr>\n",
       "  </tbody>\n",
       "</table>\n",
       "</div>"
      ],
      "text/plain": [
       "          timestamp    job_number       press  unit_number\n",
       "count  3.980000e+02    398.000000  398.000000   398.000000\n",
       "mean   1.990562e+07  36525.638191  817.422111     5.027638\n",
       "std    5.091589e+03   6562.418919    7.606686     3.262139\n",
       "min    1.990041e+07  23048.000000  802.000000     1.000000\n",
       "25%    1.990082e+07  34588.500000  815.000000     2.000000\n",
       "50%    1.990122e+07  36165.500000  816.000000     5.000000\n",
       "75%    1.991042e+07  37501.000000  824.000000     9.000000\n",
       "max    1.992022e+07  88231.000000  828.000000    10.000000"
      ]
     },
     "execution_count": 370,
     "metadata": {
      "tags": []
     },
     "output_type": "execute_result"
    }
   ],
   "source": [
    "c_new.describe()"
   ]
  },
  {
   "cell_type": "markdown",
   "metadata": {
    "colab_type": "text",
    "id": "0YCAJDv3RjKZ"
   },
   "source": [
    "#Variable Visualisation"
   ]
  },
  {
   "cell_type": "code",
   "execution_count": 371,
   "metadata": {
    "colab": {
     "base_uri": "https://localhost:8080/",
     "height": 367
    },
    "colab_type": "code",
    "id": "l5jU002MkyiX",
    "outputId": "bde73fb5-f218-4e2f-902c-75e727cc26a7"
   },
   "outputs": [
    {
     "data": {
      "text/plain": [
       "Text(0.5, 1.0, 'Histogram of timestamp')"
      ]
     },
     "execution_count": 371,
     "metadata": {
      "tags": []
     },
     "output_type": "execute_result"
    },
    {
     "data": {
      "image/png": "[encoded data removed]",
      "text/plain": [
       "<Figure size 1080x360 with 2 Axes>"
      ]
     },
     "metadata": {
      "tags": []
     },
     "output_type": "display_data"
    }
   ],
   "source": [
    "#timestamp\n",
    "plt.figure(figsize=(15,5))\n",
    "\n",
    "plt.subplot(1,2,1)\n",
    "sns.distplot(c_new['timestamp'])\n",
    "plt.title('Distribution Plot of timestamp')\n",
    "\n",
    "plt.subplot(1,2,2)\n",
    "plt.hist(c_new['timestamp'])\n",
    "plt.title('Histogram of timestamp')"
   ]
  },
  {
   "cell_type": "code",
   "execution_count": 256,
   "metadata": {
    "colab": {
     "base_uri": "https://localhost:8080/",
     "height": 368
    },
    "colab_type": "code",
    "id": "GptuNRu0lGc7",
    "outputId": "cbce6c32-33fe-4b67-e1e2-a9eb098b4526"
   },
   "outputs": [
    {
     "data": {
      "text/plain": [
       "Text(0.5, 1.0, 'Histogram of job_number')"
      ]
     },
     "execution_count": 256,
     "metadata": {
      "tags": []
     },
     "output_type": "execute_result"
    },
    {
     "data": {
      "image/png": "[encoded data removed]",
      "text/plain": [
       "<Figure size 1080x360 with 2 Axes>"
      ]
     },
     "metadata": {
      "tags": []
     },
     "output_type": "display_data"
    }
   ],
   "source": [
    "#timestamp\n",
    "plt.figure(figsize=(15,5))\n",
    "\n",
    "plt.subplot(1,2,1)\n",
    "sns.distplot(c_new['job_number'])\n",
    "plt.title('Distribution Plot of job_number')\n",
    "\n",
    "plt.subplot(1,2,2)\n",
    "plt.hist(c_new['job_number'])\n",
    "plt.title('Histogram of job_number')"
   ]
  },
  {
   "cell_type": "code",
   "execution_count": 257,
   "metadata": {
    "colab": {
     "base_uri": "https://localhost:8080/",
     "height": 367
    },
    "colab_type": "code",
    "id": "3GgdBTQBlYmQ",
    "outputId": "1b088427-08f0-4622-a21f-88a65ba487d9"
   },
   "outputs": [
    {
     "data": {
      "text/plain": [
       "Text(0.5, 1.0, 'Histogram of press')"
      ]
     },
     "execution_count": 257,
     "metadata": {
      "tags": []
     },
     "output_type": "execute_result"
    },
    {
     "data": {
      "image/png": "[encoded data removed]",
      "text/plain": [
       "<Figure size 1080x360 with 2 Axes>"
      ]
     },
     "metadata": {
      "tags": []
     },
     "output_type": "display_data"
    }
   ],
   "source": [
    "#press\n",
    "plt.figure(figsize=(15,5))\n",
    "\n",
    "plt.subplot(1,2,1)\n",
    "sns.distplot(c_new['press'])\n",
    "plt.title('Distribution Plot of press')\n",
    "\n",
    "plt.subplot(1,2,2)\n",
    "plt.hist(c_new['press'])\n",
    "plt.title('Histogram of press')"
   ]
  },
  {
   "cell_type": "code",
   "execution_count": 258,
   "metadata": {
    "colab": {
     "base_uri": "https://localhost:8080/",
     "height": 368
    },
    "colab_type": "code",
    "id": "2HlgxXt-lgrO",
    "outputId": "110f6e9f-563d-4edb-af70-d407e2aea158"
   },
   "outputs": [
    {
     "data": {
      "text/plain": [
       "Text(0.5, 1.0, 'Histogram of unit_number')"
      ]
     },
     "execution_count": 258,
     "metadata": {
      "tags": []
     },
     "output_type": "execute_result"
    },
    {
     "data": {
      "image/png": "[encoded data removed]",
      "text/plain": [
       "<Figure size 1080x360 with 2 Axes>"
      ]
     },
     "metadata": {
      "tags": []
     },
     "output_type": "display_data"
    }
   ],
   "source": [
    "#unit_number\n",
    "plt.figure(figsize=(15,5))\n",
    "\n",
    "plt.subplot(1,2,1)\n",
    "sns.distplot(c_new['unit_number'])\n",
    "plt.title('Distribution Plot of unit_number')\n",
    "\n",
    "plt.subplot(1,2,2)\n",
    "plt.hist(c_new['unit_number'])\n",
    "plt.title('Histogram of unit_number')"
   ]
  },
  {
   "cell_type": "code",
   "execution_count": 345,
   "metadata": {
    "colab": {
     "base_uri": "https://localhost:8080/",
     "height": 325
    },
    "colab_type": "code",
    "id": "wFg4ylp4R0Jw",
    "outputId": "99dc1df5-9479-4e12-e982-6ed6e472f0a9"
   },
   "outputs": [
    {
     "data": {
      "text/plain": [
       "<matplotlib.axes._subplots.AxesSubplot at 0x7fa2f760b0f0>"
      ]
     },
     "execution_count": 345,
     "metadata": {
      "tags": []
     },
     "output_type": "execute_result"
    },
    {
     "data": {
      "image/png": "[encoded data removed]",
      "text/plain": [
       "<Figure size 432x288 with 1 Axes>"
      ]
     },
     "metadata": {
      "tags": []
     },
     "output_type": "display_data"
    }
   ],
   "source": [
    "gs= pd.crosstab(c_new.band_type,c_new.grain_screened)\n",
    "gs.plot.bar(stacked=False)"
   ]
  },
  {
   "cell_type": "code",
   "execution_count": 260,
   "metadata": {
    "colab": {
     "base_uri": "https://localhost:8080/",
     "height": 325
    },
    "colab_type": "code",
    "id": "qybA9qvPSueZ",
    "outputId": "96d194cc-fce8-4073-9943-fd4ce0862118"
   },
   "outputs": [
    {
     "data": {
      "text/plain": [
       "<matplotlib.axes._subplots.AxesSubplot at 0x7fa2f79324a8>"
      ]
     },
     "execution_count": 260,
     "metadata": {
      "tags": []
     },
     "output_type": "execute_result"
    },
    {
     "data": {
      "image/png": "[encoded data removed]",
      "text/plain": [
       "<Figure size 432x288 with 1 Axes>"
      ]
     },
     "metadata": {
      "tags": []
     },
     "output_type": "display_data"
    }
   ],
   "source": [
    "ic= pd.crosstab(c_new.band_type,c_new.ink_color)\n",
    "ic.plot.bar(stacked=False)"
   ]
  },
  {
   "cell_type": "code",
   "execution_count": 261,
   "metadata": {
    "colab": {
     "base_uri": "https://localhost:8080/",
     "height": 325
    },
    "colab_type": "code",
    "id": "jbqxIOg4Tn-0",
    "outputId": "98739ce5-90ae-4700-95f2-ebc5c7517ee0"
   },
   "outputs": [
    {
     "data": {
      "text/plain": [
       "<matplotlib.axes._subplots.AxesSubplot at 0x7fa2f78f4208>"
      ]
     },
     "execution_count": 261,
     "metadata": {
      "tags": []
     },
     "output_type": "execute_result"
    },
    {
     "data": {
      "image/png": "[encoded data removed]",
      "text/plain": [
       "<Figure size 432x288 with 1 Axes>"
      ]
     },
     "metadata": {
      "tags": []
     },
     "output_type": "display_data"
    }
   ],
   "source": [
    "cd= pd.crosstab(c_new.band_type,c_new.cylinder_division)\n",
    "cd.plot.bar(stacked=False)"
   ]
  },
  {
   "cell_type": "code",
   "execution_count": 262,
   "metadata": {
    "colab": {
     "base_uri": "https://localhost:8080/",
     "height": 325
    },
    "colab_type": "code",
    "id": "kSPrUDbQUDgl",
    "outputId": "c33b93e9-846a-45f4-c2e4-94ebf74ca72f"
   },
   "outputs": [
    {
     "data": {
      "text/plain": [
       "<matplotlib.axes._subplots.AxesSubplot at 0x7fa2f7856cf8>"
      ]
     },
     "execution_count": 262,
     "metadata": {
      "tags": []
     },
     "output_type": "execute_result"
    },
    {
     "data": {
      "image/png": "[encoded data removed]",
      "text/plain": [
       "<Figure size 432x288 with 1 Axes>"
      ]
     },
     "metadata": {
      "tags": []
     },
     "output_type": "display_data"
    }
   ],
   "source": [
    "pd= pd.crosstab(c_new.band_type,c_new.paper_type)\n",
    "pd.plot.bar(stacked=False)"
   ]
  },
  {
   "cell_type": "code",
   "execution_count": 263,
   "metadata": {
    "colab": {
     "base_uri": "https://localhost:8080/",
     "height": 368
    },
    "colab_type": "code",
    "id": "EO7MfY0kUdvU",
    "outputId": "ffd209eb-0481-412a-c2f9-cdde03073b79"
   },
   "outputs": [
    {
     "data": {
      "text/plain": [
       "Text(0.5, 1.0, 'Boxplot of timestamp')"
      ]
     },
     "execution_count": 263,
     "metadata": {
      "tags": []
     },
     "output_type": "execute_result"
    },
    {
     "data": {
      "image/png": "[encoded data removed]",
      "text/plain": [
       "<Figure size 1440x360 with 4 Axes>"
      ]
     },
     "metadata": {
      "tags": []
     },
     "output_type": "display_data"
    }
   ],
   "source": [
    "plt.figure(figsize=(20,5))\n",
    "\n",
    "plt.subplot(1,4,1)\n",
    "sns.boxplot(x = \"job_number\", y= \"band_type\", data=c_new)\n",
    "plt.title('Boxplot of job_number')\n",
    "\n",
    "plt.subplot(1,4,2)\n",
    "sns.boxplot(x = \"press\", y= \"band_type\", data=c_new)\n",
    "plt.title('Boxplot of Press')\n",
    "\n",
    "plt.subplot(1,4,3)\n",
    "sns.boxplot(x = \"unit_number\", y= \"band_type\", data=c_new)\n",
    "plt.title('Boxplot of unit_number')\n",
    "\n",
    "plt.subplot(1,4,4)\n",
    "sns.boxplot(x = \"timestamp\", y= \"band_type\", data=c_new)\n",
    "plt.title('Boxplot of timestamp')"
   ]
  },
  {
   "cell_type": "markdown",
   "metadata": {
    "colab_type": "text",
    "id": "cec3IANBHc2v"
   },
   "source": [
    "#Running Different Statistical Test On the Variables"
   ]
  },
  {
   "cell_type": "code",
   "execution_count": 351,
   "metadata": {
    "colab": {
     "base_uri": "https://localhost:8080/",
     "height": 476
    },
    "colab_type": "code",
    "id": "PqiGIrHTIsWs",
    "outputId": "e071adff-da49-435c-fbe8-2dc918245359"
   },
   "outputs": [
    {
     "data": {
      "text/plain": [
       "(102.35771413449756,\n",
       " 0.0002144875427062442,\n",
       " 57,\n",
       " array([[ 0.75213675,  0.75213675,  0.37606838,  7.14529915,  2.25641026,\n",
       "          1.5042735 ,  0.75213675,  2.25641026,  0.75213675,  0.75213675,\n",
       "          0.75213675,  0.75213675,  0.75213675,  2.63247863,  0.75213675,\n",
       "          0.75213675,  1.12820513,  1.5042735 ,  0.75213675,  3.00854701,\n",
       "          1.12820513,  0.37606838,  0.37606838,  0.37606838,  1.5042735 ,\n",
       "          0.75213675,  0.75213675,  0.75213675,  0.75213675,  0.75213675,\n",
       "          0.37606838,  2.63247863,  0.75213675,  0.37606838,  1.12820513,\n",
       "          0.75213675,  0.37606838, 16.17094017,  0.75213675,  1.12820513,\n",
       "          2.25641026,  0.75213675,  9.77777778,  1.12820513,  0.75213675,\n",
       "          1.88034188,  5.26495726,  1.5042735 ,  2.25641026,  9.77777778,\n",
       "          6.39316239, 12.03418803,  1.5042735 ,  2.25641026,  9.4017094 ,\n",
       "          2.25641026,  0.37606838,  0.37606838],\n",
       "        [ 1.24786325,  1.24786325,  0.62393162, 11.85470085,  3.74358974,\n",
       "          2.4957265 ,  1.24786325,  3.74358974,  1.24786325,  1.24786325,\n",
       "          1.24786325,  1.24786325,  1.24786325,  4.36752137,  1.24786325,\n",
       "          1.24786325,  1.87179487,  2.4957265 ,  1.24786325,  4.99145299,\n",
       "          1.87179487,  0.62393162,  0.62393162,  0.62393162,  2.4957265 ,\n",
       "          1.24786325,  1.24786325,  1.24786325,  1.24786325,  1.24786325,\n",
       "          0.62393162,  4.36752137,  1.24786325,  0.62393162,  1.87179487,\n",
       "          1.24786325,  0.62393162, 26.82905983,  1.24786325,  1.87179487,\n",
       "          3.74358974,  1.24786325, 16.22222222,  1.87179487,  1.24786325,\n",
       "          3.11965812,  8.73504274,  2.4957265 ,  3.74358974, 16.22222222,\n",
       "         10.60683761, 19.96581197,  2.4957265 ,  3.74358974, 15.5982906 ,\n",
       "          3.74358974,  0.62393162,  0.62393162]]))"
      ]
     },
     "execution_count": 351,
     "metadata": {
      "tags": []
     },
     "output_type": "execute_result"
    }
   ],
   "source": [
    "j1=pd.crosstab(c_new.band_type,c_new.customer)\n",
    "stats.chi2_contingency(j1)"
   ]
  },
  {
   "cell_type": "code",
   "execution_count": 352,
   "metadata": {
    "colab": {
     "base_uri": "https://localhost:8080/",
     "height": 102
    },
    "colab_type": "code",
    "id": "JPYK9qitHmAr",
    "outputId": "3d619911-130f-4045-b3ad-f54a89d9b5ec"
   },
   "outputs": [
    {
     "data": {
      "text/plain": [
       "(19.18861157301865,\n",
       " 1.1841775588566321e-05,\n",
       " 1,\n",
       " array([[ 77.09401709,  54.90598291],\n",
       "        [127.90598291,  91.09401709]]))"
      ]
     },
     "execution_count": 352,
     "metadata": {
      "tags": []
     },
     "output_type": "execute_result"
    }
   ],
   "source": [
    "j2=pd.crosstab(c_new.band_type,c_new.grain_screened)\n",
    "stats.chi2_contingency(j2)"
   ]
  },
  {
   "cell_type": "code",
   "execution_count": 353,
   "metadata": {
    "colab": {
     "base_uri": "https://localhost:8080/",
     "height": 51
    },
    "colab_type": "code",
    "id": "0V_DCtugIV47",
    "outputId": "82c14849-82e4-41c7-a003-edb378ea1552"
   },
   "outputs": [
    {
     "data": {
      "text/plain": [
       "(0.0, 1.0, 0, array([[132.],\n",
       "        [219.]]))"
      ]
     },
     "execution_count": 353,
     "metadata": {
      "tags": []
     },
     "output_type": "execute_result"
    }
   ],
   "source": [
    "j3=pd.crosstab(c_new.band_type,c_new.ink_color)\n",
    "stats.chi2_contingency(j3)"
   ]
  },
  {
   "cell_type": "code",
   "execution_count": 354,
   "metadata": {
    "colab": {
     "base_uri": "https://localhost:8080/",
     "height": 51
    },
    "colab_type": "code",
    "id": "ML5gBEkWJAxx",
    "outputId": "928aaa52-54c5-4f11-9bf3-790e799718ec"
   },
   "outputs": [
    {
     "data": {
      "text/plain": [
       "(2.667335961428428, 0.1024273441245007, 1, array([[  6.76923077, 125.23076923],\n",
       "        [ 11.23076923, 207.76923077]]))"
      ]
     },
     "execution_count": 354,
     "metadata": {
      "tags": []
     },
     "output_type": "execute_result"
    }
   ],
   "source": [
    "j4=pd.crosstab(c_new.band_type,c_new.proof_on_ctd_ink)\n",
    "stats.chi2_contingency(j4)"
   ]
  },
  {
   "cell_type": "code",
   "execution_count": 355,
   "metadata": {
    "colab": {
     "base_uri": "https://localhost:8080/",
     "height": 51
    },
    "colab_type": "code",
    "id": "Twi_lHtkJG74",
    "outputId": "19211b07-c632-4abd-dbae-ade4a3d71105"
   },
   "outputs": [
    {
     "data": {
      "text/plain": [
       "(0.0, 1.0, 0, array([[132.],\n",
       "        [219.]]))"
      ]
     },
     "execution_count": 355,
     "metadata": {
      "tags": []
     },
     "output_type": "execute_result"
    }
   ],
   "source": [
    "j5=pd.crosstab(c_new.band_type,c_new.cylinder_division)\n",
    "stats.chi2_contingency(j5)"
   ]
  },
  {
   "cell_type": "code",
   "execution_count": 356,
   "metadata": {
    "colab": {
     "base_uri": "https://localhost:8080/",
     "height": 102
    },
    "colab_type": "code",
    "id": "LCQwXJUvJQcU",
    "outputId": "8a0e6a1d-ab96-4aa0-91ab-cf3e0039409f"
   },
   "outputs": [
    {
     "data": {
      "text/plain": [
       "(11.73881635273972,\n",
       " 0.0006120993976364516,\n",
       " 1,\n",
       " array([[ 53.77777778,  78.22222222],\n",
       "        [ 89.22222222, 129.77777778]]))"
      ]
     },
     "execution_count": 356,
     "metadata": {
      "tags": []
     },
     "output_type": "execute_result"
    }
   ],
   "source": [
    "j6=pd.crosstab(c_new.band_type,c_new.paper_type)\n",
    "stats.chi2_contingency(j6)"
   ]
  },
  {
   "cell_type": "code",
   "execution_count": 357,
   "metadata": {
    "colab": {
     "base_uri": "https://localhost:8080/",
     "height": 102
    },
    "colab_type": "code",
    "id": "VlV_WDxLJVN1",
    "outputId": "e4c8a2fe-1a42-4bc9-d9ec-b3acad614212"
   },
   "outputs": [
    {
     "data": {
      "text/plain": [
       "(29.74095984128396,\n",
       " 3.4820309515322965e-07,\n",
       " 2,\n",
       " array([[ 72.20512821,   4.51282051,  55.28205128],\n",
       "        [119.79487179,   7.48717949,  91.71794872]]))"
      ]
     },
     "execution_count": 357,
     "metadata": {
      "tags": []
     },
     "output_type": "execute_result"
    }
   ],
   "source": [
    "j7=pd.crosstab(c_new.band_type,c_new.ink_type)\n",
    "stats.chi2_contingency(j7)"
   ]
  },
  {
   "cell_type": "code",
   "execution_count": 358,
   "metadata": {
    "colab": {
     "base_uri": "https://localhost:8080/",
     "height": 51
    },
    "colab_type": "code",
    "id": "6LQk28EQJUsy",
    "outputId": "fb9678df-552c-4ef9-c348-e461229e8174"
   },
   "outputs": [
    {
     "data": {
      "text/plain": [
       "(0.0, 1.0, 0, array([[132.],\n",
       "        [219.]]))"
      ]
     },
     "execution_count": 358,
     "metadata": {
      "tags": []
     },
     "output_type": "execute_result"
    }
   ],
   "source": [
    "j8=pd.crosstab(c_new.band_type,c_new.cylinder_division)\n",
    "stats.chi2_contingency(j8)"
   ]
  },
  {
   "cell_type": "code",
   "execution_count": 359,
   "metadata": {
    "colab": {
     "base_uri": "https://localhost:8080/",
     "height": 102
    },
    "colab_type": "code",
    "id": "mTiGlw4RJUH7",
    "outputId": "5c9777b9-ea87-4129-e297-b92b8f98432c"
   },
   "outputs": [
    {
     "data": {
      "text/plain": [
       "(0.06564468066180391,\n",
       " 0.7977870049593123,\n",
       " 1,\n",
       " array([[131.62393162,   0.37606838],\n",
       "        [218.37606838,   0.62393162]]))"
      ]
     },
     "execution_count": 359,
     "metadata": {
      "tags": []
     },
     "output_type": "execute_result"
    }
   ],
   "source": [
    "j9=pd.crosstab(c_new.band_type,c_new.direct_steam)\n",
    "stats.chi2_contingency(j9)"
   ]
  },
  {
   "cell_type": "code",
   "execution_count": 360,
   "metadata": {
    "colab": {
     "base_uri": "https://localhost:8080/",
     "height": 102
    },
    "colab_type": "code",
    "id": "aPSBTnA1JTGJ",
    "outputId": "d0dba6df-b27c-4a0d-d37d-09d2e115bdf1"
   },
   "outputs": [
    {
     "data": {
      "text/plain": [
       "(2.4504990476888135,\n",
       " 0.29368440991705624,\n",
       " 2,\n",
       " array([[127.86324786,   0.75213675,   3.38461538],\n",
       "        [212.13675214,   1.24786325,   5.61538462]]))"
      ]
     },
     "execution_count": 360,
     "metadata": {
      "tags": []
     },
     "output_type": "execute_result"
    }
   ],
   "source": [
    "j10=pd.crosstab(c_new.band_type,c_new.solvent_type)\n",
    "stats.chi2_contingency(j10)"
   ]
  },
  {
   "cell_type": "code",
   "execution_count": 361,
   "metadata": {
    "colab": {
     "base_uri": "https://localhost:8080/",
     "height": 102
    },
    "colab_type": "code",
    "id": "vJcsezeXKWrU",
    "outputId": "f4e97c70-a3a7-4738-fc71-3e66010bdb40"
   },
   "outputs": [
    {
     "data": {
      "text/plain": [
       "(4.917277457623978,\n",
       " 0.026589386200843206,\n",
       " 1,\n",
       " array([[ 42.11965812,  89.88034188],\n",
       "        [ 69.88034188, 149.11965812]]))"
      ]
     },
     "execution_count": 361,
     "metadata": {
      "tags": []
     },
     "output_type": "execute_result"
    }
   ],
   "source": [
    "j11=pd.crosstab(c_new.band_type,c_new.type_on_cylinder)\n",
    "stats.chi2_contingency(j11)"
   ]
  },
  {
   "cell_type": "code",
   "execution_count": 362,
   "metadata": {
    "colab": {
     "base_uri": "https://localhost:8080/",
     "height": 102
    },
    "colab_type": "code",
    "id": "UGxrYWdjKd6j",
    "outputId": "3d1ce0c9-67e5-4e22-f556-4214e54d0ec8"
   },
   "outputs": [
    {
     "data": {
      "text/plain": [
       "(20.658217020611826,\n",
       " 0.00012396099611216668,\n",
       " 3,\n",
       " array([[ 18.42735043,   0.37606838,  63.93162393,  49.26495726],\n",
       "        [ 30.57264957,   0.62393162, 106.06837607,  81.73504274]]))"
      ]
     },
     "execution_count": 362,
     "metadata": {
      "tags": []
     },
     "output_type": "execute_result"
    }
   ],
   "source": [
    "j12=pd.crosstab(c_new.band_type,c_new.press_type)\n",
    "stats.chi2_contingency(j12)"
   ]
  },
  {
   "cell_type": "code",
   "execution_count": 363,
   "metadata": {
    "colab": {
     "base_uri": "https://localhost:8080/",
     "height": 102
    },
    "colab_type": "code",
    "id": "94FRpNIQKdZp",
    "outputId": "184fffe9-b369-46e6-fb35-159d27c358f6"
   },
   "outputs": [
    {
     "data": {
      "text/plain": [
       "(1.1941073248047096,\n",
       " 0.5504310048835845,\n",
       " 2,\n",
       " array([[ 36.1025641 ,  13.16239316,  82.73504274],\n",
       "        [ 59.8974359 ,  21.83760684, 137.26495726]]))"
      ]
     },
     "execution_count": 363,
     "metadata": {
      "tags": []
     },
     "output_type": "execute_result"
    }
   ],
   "source": [
    "j13=pd.crosstab(c_new.band_type,c_new.cylinder_size)\n",
    "stats.chi2_contingency(j13)"
   ]
  },
  {
   "cell_type": "markdown",
   "metadata": {
    "colab_type": "text",
    "id": "h6tZtooYe6we"
   },
   "source": [
    "#Dummy Variable\n",
    "\n"
   ]
  },
  {
   "cell_type": "code",
   "execution_count": 372,
   "metadata": {
    "colab": {
     "base_uri": "https://localhost:8080/",
     "height": 253
    },
    "colab_type": "code",
    "id": "0f9jXHdxe5BD",
    "outputId": "6f69884a-7fc3-49b9-f682-d8331e42db83"
   },
   "outputs": [
    {
     "data": {
      "text/html": [
       "<div>\n",
       "<style scoped>\n",
       "    .dataframe tbody tr th:only-of-type {\n",
       "        vertical-align: middle;\n",
       "    }\n",
       "\n",
       "    .dataframe tbody tr th {\n",
       "        vertical-align: top;\n",
       "    }\n",
       "\n",
       "    .dataframe thead th {\n",
       "        text-align: right;\n",
       "    }\n",
       "</style>\n",
       "<table border=\"1\" class=\"dataframe\">\n",
       "  <thead>\n",
       "    <tr style=\"text-align: right;\">\n",
       "      <th></th>\n",
       "      <th>timestamp</th>\n",
       "      <th>job_number</th>\n",
       "      <th>press</th>\n",
       "      <th>unit_number</th>\n",
       "      <th>plating_tank</th>\n",
       "      <th>proof_cut</th>\n",
       "      <th>viscosity</th>\n",
       "      <th>caliper</th>\n",
       "      <th>ink_temperature</th>\n",
       "      <th>humifity</th>\n",
       "      <th>roughness</th>\n",
       "      <th>varnish_pct</th>\n",
       "      <th>press_speed</th>\n",
       "      <th>ink_pct</th>\n",
       "      <th>solvent_pct</th>\n",
       "      <th>ESA_Voltage</th>\n",
       "      <th>ESA_Amperage</th>\n",
       "      <th>wax</th>\n",
       "      <th>hardener</th>\n",
       "      <th>roller_durometer</th>\n",
       "      <th>current_density</th>\n",
       "      <th>anode_space_ratio</th>\n",
       "      <th>chrome_content</th>\n",
       "      <th>band_type</th>\n",
       "      <th>grain_screened_yes</th>\n",
       "      <th>proof_on_ctd_ink_yes</th>\n",
       "      <th>paper_type_uncoated</th>\n",
       "      <th>ink_type_cover</th>\n",
       "      <th>ink_type_uncoated</th>\n",
       "      <th>direct_steam_yes</th>\n",
       "      <th>solvent_type_naptha</th>\n",
       "      <th>solvent_type_xylol</th>\n",
       "      <th>type_on_cylinder_yes</th>\n",
       "      <th>press_type_motter70</th>\n",
       "      <th>press_type_motter94</th>\n",
       "      <th>press_type_woodhoe70</th>\n",
       "      <th>customer_abbeypress</th>\n",
       "      <th>customer_abbypress</th>\n",
       "      <th>customer_adco</th>\n",
       "      <th>customer_ames</th>\n",
       "      <th>...</th>\n",
       "      <th>customer_eckerds</th>\n",
       "      <th>customer_exxon</th>\n",
       "      <th>customer_global</th>\n",
       "      <th>customer_globalequp</th>\n",
       "      <th>customer_guideposts</th>\n",
       "      <th>customer_gurney</th>\n",
       "      <th>customer_hanhouse</th>\n",
       "      <th>customer_hanoverhouse</th>\n",
       "      <th>customer_hanoverhse</th>\n",
       "      <th>customer_hanovrhous</th>\n",
       "      <th>customer_hanovrhouse</th>\n",
       "      <th>customer_hills</th>\n",
       "      <th>customer_homeshopping</th>\n",
       "      <th>customer_jamesway</th>\n",
       "      <th>customer_jcp</th>\n",
       "      <th>customer_jcpenny</th>\n",
       "      <th>customer_kidsrus</th>\n",
       "      <th>customer_kmart</th>\n",
       "      <th>customer_lazarus</th>\n",
       "      <th>customer_lurias</th>\n",
       "      <th>customer_massey</th>\n",
       "      <th>customer_mervyns</th>\n",
       "      <th>customer_modmat</th>\n",
       "      <th>customer_natlwildlife</th>\n",
       "      <th>customer_oldvillageshop</th>\n",
       "      <th>customer_rei</th>\n",
       "      <th>customer_roses</th>\n",
       "      <th>customer_sears</th>\n",
       "      <th>customer_sheplers</th>\n",
       "      <th>customer_target</th>\n",
       "      <th>customer_toysrus</th>\n",
       "      <th>customer_tvguide</th>\n",
       "      <th>customer_uscav</th>\n",
       "      <th>customer_walmart</th>\n",
       "      <th>customer_wards</th>\n",
       "      <th>customer_woolworth</th>\n",
       "      <th>customer_woolwrth</th>\n",
       "      <th>customer_yieldhouse</th>\n",
       "      <th>cylinder_size_spiegel</th>\n",
       "      <th>cylinder_size_tabloid</th>\n",
       "    </tr>\n",
       "  </thead>\n",
       "  <tbody>\n",
       "    <tr>\n",
       "      <th>0</th>\n",
       "      <td>19910108</td>\n",
       "      <td>25503</td>\n",
       "      <td>821</td>\n",
       "      <td>2</td>\n",
       "      <td>1911</td>\n",
       "      <td>55</td>\n",
       "      <td>46</td>\n",
       "      <td>0.2</td>\n",
       "      <td>17</td>\n",
       "      <td>78</td>\n",
       "      <td>0.75</td>\n",
       "      <td>13.1</td>\n",
       "      <td>1700</td>\n",
       "      <td>50.5</td>\n",
       "      <td>36.4</td>\n",
       "      <td>0</td>\n",
       "      <td>0</td>\n",
       "      <td>2.5</td>\n",
       "      <td>1</td>\n",
       "      <td>34</td>\n",
       "      <td>40</td>\n",
       "      <td>105</td>\n",
       "      <td>100</td>\n",
       "      <td>band</td>\n",
       "      <td>1</td>\n",
       "      <td>1</td>\n",
       "      <td>1</td>\n",
       "      <td>0</td>\n",
       "      <td>1</td>\n",
       "      <td>0</td>\n",
       "      <td>0</td>\n",
       "      <td>0</td>\n",
       "      <td>1</td>\n",
       "      <td>0</td>\n",
       "      <td>1</td>\n",
       "      <td>0</td>\n",
       "      <td>0</td>\n",
       "      <td>0</td>\n",
       "      <td>0</td>\n",
       "      <td>0</td>\n",
       "      <td>...</td>\n",
       "      <td>0</td>\n",
       "      <td>0</td>\n",
       "      <td>0</td>\n",
       "      <td>0</td>\n",
       "      <td>0</td>\n",
       "      <td>0</td>\n",
       "      <td>0</td>\n",
       "      <td>0</td>\n",
       "      <td>0</td>\n",
       "      <td>0</td>\n",
       "      <td>0</td>\n",
       "      <td>0</td>\n",
       "      <td>0</td>\n",
       "      <td>0</td>\n",
       "      <td>0</td>\n",
       "      <td>0</td>\n",
       "      <td>0</td>\n",
       "      <td>0</td>\n",
       "      <td>0</td>\n",
       "      <td>0</td>\n",
       "      <td>0</td>\n",
       "      <td>0</td>\n",
       "      <td>0</td>\n",
       "      <td>0</td>\n",
       "      <td>0</td>\n",
       "      <td>0</td>\n",
       "      <td>0</td>\n",
       "      <td>0</td>\n",
       "      <td>0</td>\n",
       "      <td>0</td>\n",
       "      <td>0</td>\n",
       "      <td>1</td>\n",
       "      <td>0</td>\n",
       "      <td>0</td>\n",
       "      <td>0</td>\n",
       "      <td>0</td>\n",
       "      <td>0</td>\n",
       "      <td>0</td>\n",
       "      <td>0</td>\n",
       "      <td>1</td>\n",
       "    </tr>\n",
       "    <tr>\n",
       "      <th>3</th>\n",
       "      <td>19910104</td>\n",
       "      <td>39039</td>\n",
       "      <td>816</td>\n",
       "      <td>9</td>\n",
       "      <td>1910</td>\n",
       "      <td>52</td>\n",
       "      <td>40</td>\n",
       "      <td>0.3</td>\n",
       "      <td>16</td>\n",
       "      <td>75</td>\n",
       "      <td>0.3125</td>\n",
       "      <td>5.6</td>\n",
       "      <td>1467</td>\n",
       "      <td>55.6</td>\n",
       "      <td>38.8</td>\n",
       "      <td>0</td>\n",
       "      <td>0</td>\n",
       "      <td>2.5</td>\n",
       "      <td>1.3</td>\n",
       "      <td>40</td>\n",
       "      <td>40</td>\n",
       "      <td>108.06</td>\n",
       "      <td>100</td>\n",
       "      <td>noband</td>\n",
       "      <td>1</td>\n",
       "      <td>1</td>\n",
       "      <td>1</td>\n",
       "      <td>0</td>\n",
       "      <td>1</td>\n",
       "      <td>0</td>\n",
       "      <td>0</td>\n",
       "      <td>0</td>\n",
       "      <td>1</td>\n",
       "      <td>0</td>\n",
       "      <td>0</td>\n",
       "      <td>1</td>\n",
       "      <td>0</td>\n",
       "      <td>0</td>\n",
       "      <td>0</td>\n",
       "      <td>0</td>\n",
       "      <td>...</td>\n",
       "      <td>0</td>\n",
       "      <td>0</td>\n",
       "      <td>0</td>\n",
       "      <td>0</td>\n",
       "      <td>0</td>\n",
       "      <td>0</td>\n",
       "      <td>0</td>\n",
       "      <td>0</td>\n",
       "      <td>0</td>\n",
       "      <td>0</td>\n",
       "      <td>0</td>\n",
       "      <td>0</td>\n",
       "      <td>0</td>\n",
       "      <td>0</td>\n",
       "      <td>0</td>\n",
       "      <td>0</td>\n",
       "      <td>0</td>\n",
       "      <td>0</td>\n",
       "      <td>0</td>\n",
       "      <td>0</td>\n",
       "      <td>1</td>\n",
       "      <td>0</td>\n",
       "      <td>0</td>\n",
       "      <td>0</td>\n",
       "      <td>0</td>\n",
       "      <td>0</td>\n",
       "      <td>0</td>\n",
       "      <td>0</td>\n",
       "      <td>0</td>\n",
       "      <td>0</td>\n",
       "      <td>0</td>\n",
       "      <td>0</td>\n",
       "      <td>0</td>\n",
       "      <td>0</td>\n",
       "      <td>0</td>\n",
       "      <td>0</td>\n",
       "      <td>0</td>\n",
       "      <td>0</td>\n",
       "      <td>0</td>\n",
       "      <td>0</td>\n",
       "    </tr>\n",
       "    <tr>\n",
       "      <th>4</th>\n",
       "      <td>19910111</td>\n",
       "      <td>37351</td>\n",
       "      <td>816</td>\n",
       "      <td>2</td>\n",
       "      <td>1910</td>\n",
       "      <td>50</td>\n",
       "      <td>46</td>\n",
       "      <td>0.3</td>\n",
       "      <td>17</td>\n",
       "      <td>80</td>\n",
       "      <td>0.75</td>\n",
       "      <td>0</td>\n",
       "      <td>2100</td>\n",
       "      <td>57.5</td>\n",
       "      <td>42.5</td>\n",
       "      <td>5</td>\n",
       "      <td>0</td>\n",
       "      <td>2.3</td>\n",
       "      <td>0.6</td>\n",
       "      <td>35</td>\n",
       "      <td>40</td>\n",
       "      <td>106.67</td>\n",
       "      <td>100</td>\n",
       "      <td>noband</td>\n",
       "      <td>0</td>\n",
       "      <td>1</td>\n",
       "      <td>1</td>\n",
       "      <td>0</td>\n",
       "      <td>0</td>\n",
       "      <td>0</td>\n",
       "      <td>0</td>\n",
       "      <td>0</td>\n",
       "      <td>1</td>\n",
       "      <td>0</td>\n",
       "      <td>0</td>\n",
       "      <td>1</td>\n",
       "      <td>0</td>\n",
       "      <td>0</td>\n",
       "      <td>0</td>\n",
       "      <td>0</td>\n",
       "      <td>...</td>\n",
       "      <td>0</td>\n",
       "      <td>0</td>\n",
       "      <td>0</td>\n",
       "      <td>0</td>\n",
       "      <td>0</td>\n",
       "      <td>0</td>\n",
       "      <td>0</td>\n",
       "      <td>0</td>\n",
       "      <td>0</td>\n",
       "      <td>0</td>\n",
       "      <td>0</td>\n",
       "      <td>0</td>\n",
       "      <td>0</td>\n",
       "      <td>0</td>\n",
       "      <td>0</td>\n",
       "      <td>0</td>\n",
       "      <td>0</td>\n",
       "      <td>1</td>\n",
       "      <td>0</td>\n",
       "      <td>0</td>\n",
       "      <td>0</td>\n",
       "      <td>0</td>\n",
       "      <td>0</td>\n",
       "      <td>0</td>\n",
       "      <td>0</td>\n",
       "      <td>0</td>\n",
       "      <td>0</td>\n",
       "      <td>0</td>\n",
       "      <td>0</td>\n",
       "      <td>0</td>\n",
       "      <td>0</td>\n",
       "      <td>0</td>\n",
       "      <td>0</td>\n",
       "      <td>0</td>\n",
       "      <td>0</td>\n",
       "      <td>0</td>\n",
       "      <td>0</td>\n",
       "      <td>0</td>\n",
       "      <td>0</td>\n",
       "      <td>1</td>\n",
       "    </tr>\n",
       "    <tr>\n",
       "      <th>5</th>\n",
       "      <td>19910104</td>\n",
       "      <td>38039</td>\n",
       "      <td>816</td>\n",
       "      <td>2</td>\n",
       "      <td>1910</td>\n",
       "      <td>50</td>\n",
       "      <td>40</td>\n",
       "      <td>0.267</td>\n",
       "      <td>16.8</td>\n",
       "      <td>76</td>\n",
       "      <td>0.4375</td>\n",
       "      <td>8.6</td>\n",
       "      <td>1467</td>\n",
       "      <td>53.8</td>\n",
       "      <td>37.6</td>\n",
       "      <td>5</td>\n",
       "      <td>0</td>\n",
       "      <td>2.5</td>\n",
       "      <td>0.8</td>\n",
       "      <td>40</td>\n",
       "      <td>40</td>\n",
       "      <td>103.87</td>\n",
       "      <td>100</td>\n",
       "      <td>noband</td>\n",
       "      <td>1</td>\n",
       "      <td>1</td>\n",
       "      <td>1</td>\n",
       "      <td>0</td>\n",
       "      <td>1</td>\n",
       "      <td>0</td>\n",
       "      <td>0</td>\n",
       "      <td>0</td>\n",
       "      <td>1</td>\n",
       "      <td>0</td>\n",
       "      <td>0</td>\n",
       "      <td>1</td>\n",
       "      <td>0</td>\n",
       "      <td>0</td>\n",
       "      <td>0</td>\n",
       "      <td>0</td>\n",
       "      <td>...</td>\n",
       "      <td>0</td>\n",
       "      <td>0</td>\n",
       "      <td>0</td>\n",
       "      <td>0</td>\n",
       "      <td>0</td>\n",
       "      <td>0</td>\n",
       "      <td>0</td>\n",
       "      <td>0</td>\n",
       "      <td>0</td>\n",
       "      <td>0</td>\n",
       "      <td>0</td>\n",
       "      <td>0</td>\n",
       "      <td>0</td>\n",
       "      <td>0</td>\n",
       "      <td>0</td>\n",
       "      <td>0</td>\n",
       "      <td>0</td>\n",
       "      <td>0</td>\n",
       "      <td>0</td>\n",
       "      <td>0</td>\n",
       "      <td>1</td>\n",
       "      <td>0</td>\n",
       "      <td>0</td>\n",
       "      <td>0</td>\n",
       "      <td>0</td>\n",
       "      <td>0</td>\n",
       "      <td>0</td>\n",
       "      <td>0</td>\n",
       "      <td>0</td>\n",
       "      <td>0</td>\n",
       "      <td>0</td>\n",
       "      <td>0</td>\n",
       "      <td>0</td>\n",
       "      <td>0</td>\n",
       "      <td>0</td>\n",
       "      <td>0</td>\n",
       "      <td>0</td>\n",
       "      <td>0</td>\n",
       "      <td>0</td>\n",
       "      <td>0</td>\n",
       "    </tr>\n",
       "    <tr>\n",
       "      <th>6</th>\n",
       "      <td>19910111</td>\n",
       "      <td>35751</td>\n",
       "      <td>827</td>\n",
       "      <td>2</td>\n",
       "      <td>1911</td>\n",
       "      <td>50</td>\n",
       "      <td>46</td>\n",
       "      <td>0.3</td>\n",
       "      <td>16.5</td>\n",
       "      <td>75</td>\n",
       "      <td>0.75</td>\n",
       "      <td>0</td>\n",
       "      <td>2600</td>\n",
       "      <td>62.5</td>\n",
       "      <td>37.5</td>\n",
       "      <td>6</td>\n",
       "      <td>0</td>\n",
       "      <td>2.5</td>\n",
       "      <td>0.6</td>\n",
       "      <td>30</td>\n",
       "      <td>40</td>\n",
       "      <td>106.67</td>\n",
       "      <td>100</td>\n",
       "      <td>noband</td>\n",
       "      <td>0</td>\n",
       "      <td>1</td>\n",
       "      <td>0</td>\n",
       "      <td>0</td>\n",
       "      <td>0</td>\n",
       "      <td>0</td>\n",
       "      <td>0</td>\n",
       "      <td>0</td>\n",
       "      <td>1</td>\n",
       "      <td>0</td>\n",
       "      <td>1</td>\n",
       "      <td>0</td>\n",
       "      <td>0</td>\n",
       "      <td>0</td>\n",
       "      <td>0</td>\n",
       "      <td>0</td>\n",
       "      <td>...</td>\n",
       "      <td>0</td>\n",
       "      <td>0</td>\n",
       "      <td>0</td>\n",
       "      <td>0</td>\n",
       "      <td>0</td>\n",
       "      <td>0</td>\n",
       "      <td>0</td>\n",
       "      <td>0</td>\n",
       "      <td>0</td>\n",
       "      <td>0</td>\n",
       "      <td>0</td>\n",
       "      <td>0</td>\n",
       "      <td>0</td>\n",
       "      <td>0</td>\n",
       "      <td>0</td>\n",
       "      <td>0</td>\n",
       "      <td>0</td>\n",
       "      <td>0</td>\n",
       "      <td>0</td>\n",
       "      <td>0</td>\n",
       "      <td>0</td>\n",
       "      <td>0</td>\n",
       "      <td>0</td>\n",
       "      <td>0</td>\n",
       "      <td>0</td>\n",
       "      <td>0</td>\n",
       "      <td>1</td>\n",
       "      <td>0</td>\n",
       "      <td>0</td>\n",
       "      <td>0</td>\n",
       "      <td>0</td>\n",
       "      <td>0</td>\n",
       "      <td>0</td>\n",
       "      <td>0</td>\n",
       "      <td>0</td>\n",
       "      <td>0</td>\n",
       "      <td>0</td>\n",
       "      <td>0</td>\n",
       "      <td>0</td>\n",
       "      <td>1</td>\n",
       "    </tr>\n",
       "  </tbody>\n",
       "</table>\n",
       "<p>5 rows × 96 columns</p>\n",
       "</div>"
      ],
      "text/plain": [
       "   timestamp  job_number  ...  cylinder_size_spiegel  cylinder_size_tabloid\n",
       "0   19910108       25503  ...                      0                      1\n",
       "3   19910104       39039  ...                      0                      0\n",
       "4   19910111       37351  ...                      0                      1\n",
       "5   19910104       38039  ...                      0                      0\n",
       "6   19910111       35751  ...                      0                      1\n",
       "\n",
       "[5 rows x 96 columns]"
      ]
     },
     "execution_count": 372,
     "metadata": {
      "tags": []
     },
     "output_type": "execute_result"
    }
   ],
   "source": [
    "import pandas as pd\n",
    "c_dummy= pd.get_dummies(c_new, columns=['grain_screened','ink_color','proof_on_ctd_ink','cylinder_division','paper_type','ink_type','direct_steam','solvent_type','type_on_cylinder','press_type','customer','cylinder_size'],drop_first=True)\n",
    "c_dummy.head()"
   ]
  },
  {
   "cell_type": "markdown",
   "metadata": {
    "colab_type": "text",
    "id": "hTBsM0H3YxQP"
   },
   "source": [
    "#Splitting Dataset to Train & Test"
   ]
  },
  {
   "cell_type": "code",
   "execution_count": 0,
   "metadata": {
    "colab": {},
    "colab_type": "code",
    "id": "h8rm9-vTY9Xw"
   },
   "outputs": [],
   "source": [
    "x = c_dummy.drop(['band_type'], axis= 1)\n",
    "y = c_dummy['band_type']"
   ]
  },
  {
   "cell_type": "code",
   "execution_count": 374,
   "metadata": {
    "colab": {
     "base_uri": "https://localhost:8080/",
     "height": 85
    },
    "colab_type": "code",
    "id": "pfz5QjALZU6c",
    "outputId": "57578fc6-7b0b-4af9-e5c5-57a194121bfb"
   },
   "outputs": [
    {
     "name": "stdout",
     "output_type": "stream",
     "text": [
      "(318, 95)\n",
      "(80, 95)\n",
      "(318,)\n",
      "(80,)\n"
     ]
    }
   ],
   "source": [
    "from sklearn.model_selection import train_test_split\n",
    "  # 80 % go into the training test, 20% in the validation test\n",
    "x_train, x_test, y_train, y_test = train_test_split(x, y, test_size=0.2, random_state=7)\n",
    "\n",
    "print(x_train.shape)\n",
    "print(x_test.shape)\n",
    "print(y_train.shape)\n",
    "print(y_test.shape)"
   ]
  },
  {
   "cell_type": "markdown",
   "metadata": {
    "colab_type": "text",
    "id": "ua_-cwAwh2hX"
   },
   "source": [
    "#Logistic Regression Model on Dummy Variable Dataset"
   ]
  },
  {
   "cell_type": "code",
   "execution_count": 375,
   "metadata": {
    "colab": {
     "base_uri": "https://localhost:8080/",
     "height": 102
    },
    "colab_type": "code",
    "id": "VeCWQebZh4jT",
    "outputId": "55c4f024-e4f6-45ba-d2ba-9c0b5081c42e"
   },
   "outputs": [
    {
     "data": {
      "text/plain": [
       "LogisticRegression(C=1.0, class_weight=None, dual=False, fit_intercept=True,\n",
       "                   intercept_scaling=1, l1_ratio=None, max_iter=100,\n",
       "                   multi_class='auto', n_jobs=None, penalty='l2',\n",
       "                   random_state=None, solver='lbfgs', tol=0.0001, verbose=0,\n",
       "                   warm_start=False)"
      ]
     },
     "execution_count": 375,
     "metadata": {
      "tags": []
     },
     "output_type": "execute_result"
    }
   ],
   "source": [
    "#Now we will perform Logistic Regression Model on the Dummy Variable Dataset\n",
    "\n",
    "#Importing Logistic Regression Model\n",
    "from sklearn.linear_model import LogisticRegression\n",
    "\n",
    "logreg = LogisticRegression()\n",
    "\n",
    "logreg.fit(x_train, y_train)"
   ]
  },
  {
   "cell_type": "code",
   "execution_count": 376,
   "metadata": {
    "colab": {
     "base_uri": "https://localhost:8080/",
     "height": 255
    },
    "colab_type": "code",
    "id": "ZzX0VY3OiuXS",
    "outputId": "d4a281bd-0031-4464-a619-7422cdf9c6d8"
   },
   "outputs": [
    {
     "data": {
      "text/plain": [
       "array(['noband', 'noband', 'noband', 'noband', 'band', 'noband', 'noband',\n",
       "       'noband', 'noband', 'noband', 'noband', 'noband', 'noband',\n",
       "       'noband', 'noband', 'noband', 'noband', 'noband', 'noband',\n",
       "       'noband', 'noband', 'noband', 'noband', 'noband', 'noband',\n",
       "       'noband', 'noband', 'noband', 'noband', 'noband', 'noband',\n",
       "       'noband', 'noband', 'noband', 'noband', 'noband', 'noband',\n",
       "       'noband', 'noband', 'noband', 'noband', 'noband', 'noband',\n",
       "       'noband', 'noband', 'noband', 'noband', 'noband', 'noband',\n",
       "       'noband', 'noband', 'noband', 'noband', 'noband', 'band', 'noband',\n",
       "       'noband', 'noband', 'noband', 'noband', 'noband', 'noband',\n",
       "       'noband', 'noband', 'noband', 'noband', 'noband', 'noband',\n",
       "       'noband', 'noband', 'noband', 'noband', 'noband', 'noband',\n",
       "       'noband', 'noband', 'noband', 'noband', 'noband', 'noband'],\n",
       "      dtype=object)"
      ]
     },
     "execution_count": 376,
     "metadata": {
      "tags": []
     },
     "output_type": "execute_result"
    }
   ],
   "source": [
    "#y prediction\n",
    "y_pred = logreg.predict(x_test)\n",
    "y_pred"
   ]
  },
  {
   "cell_type": "code",
   "execution_count": 377,
   "metadata": {
    "colab": {
     "base_uri": "https://localhost:8080/",
     "height": 255
    },
    "colab_type": "code",
    "id": "WaR02DiDi3Hy",
    "outputId": "0ef9a6d1-03a0-4496-e6ac-63088a4ee945"
   },
   "outputs": [
    {
     "data": {
      "text/plain": [
       "array(['noband', 'noband', 'noband', 'noband', 'band', 'noband', 'noband',\n",
       "       'noband', 'noband', 'noband', 'noband', 'noband', 'noband',\n",
       "       'noband', 'noband', 'noband', 'noband', 'noband', 'noband',\n",
       "       'noband', 'noband', 'noband', 'noband', 'noband', 'noband',\n",
       "       'noband', 'noband', 'noband', 'noband', 'noband', 'noband',\n",
       "       'noband', 'noband', 'noband', 'noband', 'noband', 'noband',\n",
       "       'noband', 'noband', 'noband', 'noband', 'noband', 'noband',\n",
       "       'noband', 'noband', 'noband', 'noband', 'noband', 'noband',\n",
       "       'noband', 'noband', 'noband', 'noband', 'noband', 'band', 'noband',\n",
       "       'noband', 'noband', 'noband', 'noband', 'noband', 'noband',\n",
       "       'noband', 'noband', 'noband', 'noband', 'noband', 'noband',\n",
       "       'noband', 'noband', 'noband', 'noband', 'noband', 'noband',\n",
       "       'noband', 'noband', 'noband', 'noband', 'noband', 'noband'],\n",
       "      dtype=object)"
      ]
     },
     "execution_count": 377,
     "metadata": {
      "tags": []
     },
     "output_type": "execute_result"
    }
   ],
   "source": [
    "#logistic regression prediction\n",
    "log_predicted= logreg.predict(x_test)\n",
    "log_predicted"
   ]
  },
  {
   "cell_type": "code",
   "execution_count": 378,
   "metadata": {
    "colab": {
     "base_uri": "https://localhost:8080/",
     "height": 187
    },
    "colab_type": "code",
    "id": "T7glPN6HjA4P",
    "outputId": "4064ccb4-3631-438d-b08f-2a9a2db220f8"
   },
   "outputs": [
    {
     "name": "stdout",
     "output_type": "stream",
     "text": [
      "Classification Report: \n",
      "               precision    recall  f1-score   support\n",
      "\n",
      "        band       0.50      0.04      0.07        26\n",
      "      noband       0.68      0.98      0.80        54\n",
      "\n",
      "    accuracy                           0.68        80\n",
      "   macro avg       0.59      0.51      0.44        80\n",
      "weighted avg       0.62      0.68      0.57        80\n",
      "\n"
     ]
    }
   ],
   "source": [
    "#Now we import Classification report confusion matrix from sklearn to check the accuracy of the prediction we made with logisitic regession model \n",
    "from sklearn.metrics import classification_report,confusion_matrix\n",
    "\n",
    "print('Classification Report: \\n', classification_report(y_test,log_predicted))"
   ]
  },
  {
   "cell_type": "code",
   "execution_count": 379,
   "metadata": {
    "colab": {
     "base_uri": "https://localhost:8080/",
     "height": 85
    },
    "colab_type": "code",
    "id": "iu4ROS6wjG3Q",
    "outputId": "7cd6759f-b88d-404b-8c84-5bc91ae8a144"
   },
   "outputs": [
    {
     "name": "stdout",
     "output_type": "stream",
     "text": [
      "Accuracy: \n",
      " 0.675\n",
      "Accuracy:\n",
      " 67.5\n"
     ]
    }
   ],
   "source": [
    "from sklearn.metrics import accuracy_score\n",
    "Accuracy = accuracy_score(y_test,log_predicted)\n",
    "print('Accuracy: \\n', Accuracy)\n",
    "print('Accuracy:\\n', 100*(Accuracy))"
   ]
  },
  {
   "cell_type": "markdown",
   "metadata": {
    "colab_type": "text",
    "id": "4Nu0iAu_jLgM"
   },
   "source": [
    "#Decision Tree of Dummy Variable Dataset\n"
   ]
  },
  {
   "cell_type": "code",
   "execution_count": 380,
   "metadata": {
    "colab": {
     "base_uri": "https://localhost:8080/",
     "height": 119
    },
    "colab_type": "code",
    "id": "byGEUiYuiOsO",
    "outputId": "a7caf5f7-8b2d-48c1-e62e-f8fd7f43d1bb"
   },
   "outputs": [
    {
     "data": {
      "text/plain": [
       "DecisionTreeClassifier(ccp_alpha=0.0, class_weight=None, criterion='gini',\n",
       "                       max_depth=None, max_features=None, max_leaf_nodes=None,\n",
       "                       min_impurity_decrease=0.0, min_impurity_split=None,\n",
       "                       min_samples_leaf=1, min_samples_split=2,\n",
       "                       min_weight_fraction_leaf=0.0, presort='deprecated',\n",
       "                       random_state=105, splitter='best')"
      ]
     },
     "execution_count": 380,
     "metadata": {
      "tags": []
     },
     "output_type": "execute_result"
    }
   ],
   "source": [
    "from sklearn.tree import DecisionTreeClassifier\n",
    "dtree = DecisionTreeClassifier(random_state=105)\n",
    "\n",
    "dtree.fit(x_train, y_train)"
   ]
  },
  {
   "cell_type": "code",
   "execution_count": 381,
   "metadata": {
    "colab": {
     "base_uri": "https://localhost:8080/",
     "height": 187
    },
    "colab_type": "code",
    "id": "MlbCDzc_jP1r",
    "outputId": "795bf416-b79a-4c02-ecaf-31410db03173"
   },
   "outputs": [
    {
     "name": "stdout",
     "output_type": "stream",
     "text": [
      "Classification Report: \n",
      "               precision    recall  f1-score   support\n",
      "\n",
      "        band       0.70      0.73      0.72        26\n",
      "      noband       0.87      0.85      0.86        54\n",
      "\n",
      "    accuracy                           0.81        80\n",
      "   macro avg       0.79      0.79      0.79        80\n",
      "weighted avg       0.81      0.81      0.81        80\n",
      "\n"
     ]
    }
   ],
   "source": [
    "#Decision Tree Predction\n",
    "D_pred =dtree.predict(x_test)\n",
    "\n",
    "#Now we import Classification report confusion matrix from sklearn to check the accuracy of the prediction we made with Decision Tree Classifier Model\n",
    "from sklearn.metrics import classification_report,confusion_matrix\n",
    "print('Classification Report: \\n', classification_report(y_test,D_pred))"
   ]
  },
  {
   "cell_type": "code",
   "execution_count": 383,
   "metadata": {
    "colab": {
     "base_uri": "https://localhost:8080/",
     "height": 85
    },
    "colab_type": "code",
    "id": "lUIRj-LNjX2B",
    "outputId": "d169a2c3-72cb-42cc-ded8-481b0e443103"
   },
   "outputs": [
    {
     "name": "stdout",
     "output_type": "stream",
     "text": [
      "Accuracy: \n",
      " 0.8125\n",
      "Accuracy:\n",
      " 81.25\n"
     ]
    }
   ],
   "source": [
    "from sklearn.metrics import accuracy_score\n",
    "Accuracy = accuracy_score(y_test,D_pred)\n",
    "print('Accuracy: \\n', Accuracy)\n",
    "print('Accuracy:\\n', 100*(Accuracy))"
   ]
  },
  {
   "cell_type": "markdown",
   "metadata": {
    "colab_type": "text",
    "id": "G3Q5KGITjdBy"
   },
   "source": [
    "#Random Forest of Decision Tree"
   ]
  },
  {
   "cell_type": "code",
   "execution_count": 384,
   "metadata": {
    "colab": {
     "base_uri": "https://localhost:8080/",
     "height": 153
    },
    "colab_type": "code",
    "id": "HtGtQGApjgC9",
    "outputId": "8f3f5cdd-a060-490d-ec43-98b2bd272763"
   },
   "outputs": [
    {
     "data": {
      "text/plain": [
       "RandomForestClassifier(bootstrap=True, ccp_alpha=0.0, class_weight=None,\n",
       "                       criterion='gini', max_depth=None, max_features='auto',\n",
       "                       max_leaf_nodes=None, max_samples=None,\n",
       "                       min_impurity_decrease=0.0, min_impurity_split=None,\n",
       "                       min_samples_leaf=1, min_samples_split=2,\n",
       "                       min_weight_fraction_leaf=0.0, n_estimators=100,\n",
       "                       n_jobs=None, oob_score=False, random_state=105,\n",
       "                       verbose=0, warm_start=False)"
      ]
     },
     "execution_count": 384,
     "metadata": {
      "tags": []
     },
     "output_type": "execute_result"
    }
   ],
   "source": [
    "#Now we will perform Random Forest of Decision Tree Model on the Dummy Variable Dataset\n",
    "\n",
    "#importing Random Forest Classifier Model\n",
    "\n",
    "from sklearn.ensemble import RandomForestClassifier\n",
    "rforrest = RandomForestClassifier(random_state=105)\n",
    "\n",
    "rforrest.fit(x_train, y_train)"
   ]
  },
  {
   "cell_type": "code",
   "execution_count": 385,
   "metadata": {
    "colab": {
     "base_uri": "https://localhost:8080/",
     "height": 187
    },
    "colab_type": "code",
    "id": "JgSKJGpJjjm0",
    "outputId": "da8b189e-743e-40d9-e809-f2f828e7d504"
   },
   "outputs": [
    {
     "name": "stdout",
     "output_type": "stream",
     "text": [
      "Classification Report: \n",
      "               precision    recall  f1-score   support\n",
      "\n",
      "        band       0.85      0.42      0.56        26\n",
      "      noband       0.78      0.96      0.86        54\n",
      "\n",
      "    accuracy                           0.79        80\n",
      "   macro avg       0.81      0.69      0.71        80\n",
      "weighted avg       0.80      0.79      0.76        80\n",
      "\n"
     ]
    }
   ],
   "source": [
    "#Random Forest Classifier Predction\n",
    "R_pred = rforrest.predict(x_test)\n",
    "\n",
    "#Now we import Classification report confusion matrix from sklearn to check the accuracy of the prediction we made with Random Forest Classifier Model\n",
    "from sklearn.metrics import classification_report,confusion_matrix\n",
    "print('Classification Report: \\n', classification_report(y_test,R_pred))"
   ]
  },
  {
   "cell_type": "code",
   "execution_count": 386,
   "metadata": {
    "colab": {
     "base_uri": "https://localhost:8080/",
     "height": 85
    },
    "colab_type": "code",
    "id": "SZZimDZIjtlw",
    "outputId": "ce69315a-a008-45a5-c375-4aeb689cb0ef"
   },
   "outputs": [
    {
     "name": "stdout",
     "output_type": "stream",
     "text": [
      "Accuracy: \n",
      " 0.7875\n",
      "Accuracy:\n",
      " 78.75\n"
     ]
    }
   ],
   "source": [
    "from sklearn.metrics import accuracy_score\n",
    "Accuracy = accuracy_score(y_test,R_pred)\n",
    "print('Accuracy: \\n', Accuracy)\n",
    "print('Accuracy:\\n', 100*(Accuracy))"
   ]
  }
 ],
 "metadata": {
  "colab": {
   "name": "CylinderBandWOGSCV.ipynb",
   "provenance": []
  },
  "kernelspec": {
   "display_name": "Python 3",
   "language": "python",
   "name": "python3"
  },
  "language_info": {
   "codemirror_mode": {
    "name": "ipython",
    "version": 3
   },
   "file_extension": ".py",
   "mimetype": "text/x-python",
   "name": "python",
   "nbconvert_exporter": "python",
   "pygments_lexer": "ipython3",
   "version": "3.7.7"
  }
 },
 "nbformat": 4,
 "nbformat_minor": 1
}
